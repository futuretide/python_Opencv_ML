{
 "cells": [
  {
   "cell_type": "code",
   "execution_count": 1,
   "metadata": {},
   "outputs": [],
   "source": [
    "import numpy as np\n",
    "import scipy as sc"
   ]
  },
  {
   "cell_type": "code",
   "execution_count": 2,
   "metadata": {},
   "outputs": [
    {
     "name": "stdout",
     "output_type": "stream",
     "text": [
      "[[1 1]\n",
      " [1 1]]\n"
     ]
    }
   ],
   "source": [
    "x = np.array([[1, 1], [1, 1]])\n",
    "print(x)"
   ]
  },
  {
   "cell_type": "code",
   "execution_count": 3,
   "metadata": {},
   "outputs": [
    {
     "data": {
      "text/plain": [
       "(2, 2)"
      ]
     },
     "execution_count": 3,
     "metadata": {},
     "output_type": "execute_result"
    }
   ],
   "source": [
    "x.shape\n"
   ]
  },
  {
   "cell_type": "code",
   "execution_count": 4,
   "metadata": {},
   "outputs": [
    {
     "data": {
      "text/plain": [
       "array([[ 0.70710678],\n",
       "       [-0.70710678]])"
      ]
     },
     "execution_count": 4,
     "metadata": {},
     "output_type": "execute_result"
    }
   ],
   "source": [
    "from scipy.linalg import null_space\n",
    "null_space(x)"
   ]
  },
  {
   "cell_type": "code",
   "execution_count": 5,
   "metadata": {},
   "outputs": [
    {
     "name": "stdout",
     "output_type": "stream",
     "text": [
      "[[3 4]\n",
      " [2 3]]\n",
      "[7 5]\n"
     ]
    }
   ],
   "source": [
    "A = np.array([[3,4],[2,3]])\n",
    "print(A)\n",
    "b = np.array([7,5])\n",
    "print(b)\n"
   ]
  },
  {
   "cell_type": "code",
   "execution_count": 6,
   "metadata": {},
   "outputs": [
    {
     "name": "stdout",
     "output_type": "stream",
     "text": [
      "[1. 1.]\n"
     ]
    }
   ],
   "source": [
    "x = sc.linalg.solve(A, b) # Solve the equation a x = b for x.\n",
    "print(x)"
   ]
  },
  {
   "cell_type": "code",
   "execution_count": 7,
   "metadata": {},
   "outputs": [
    {
     "data": {
      "text/plain": [
       "array([[1, 2, 3],\n",
       "       [0, 5, 6],\n",
       "       [0, 0, 9]])"
      ]
     },
     "execution_count": 7,
     "metadata": {},
     "output_type": "execute_result"
    }
   ],
   "source": [
    "A = np.array([[1,2,3],[4,5,6],[7,8,9]])\n",
    "sc.linalg.triu(A)"
   ]
  },
  {
   "cell_type": "code",
   "execution_count": 8,
   "metadata": {},
   "outputs": [
    {
     "data": {
      "text/plain": [
       "array([[1, 0, 0],\n",
       "       [4, 5, 0],\n",
       "       [7, 8, 9]])"
      ]
     },
     "execution_count": 8,
     "metadata": {},
     "output_type": "execute_result"
    }
   ],
   "source": [
    "sc.linalg.tril([[1,2,3],[4,5,6],[7,8,9]]) "
   ]
  },
  {
   "cell_type": "code",
   "execution_count": 10,
   "metadata": {},
   "outputs": [],
   "source": [
    "A = np.array([[2, 5, 8, 7], [5, 2, 2, 8], [7, 5, 6, 6], [5, 4, 4, 8]])\n",
    "_, l, u = sc.linalg.lu(A) "
   ]
  },
  {
   "cell_type": "code",
   "execution_count": 12,
   "metadata": {},
   "outputs": [
    {
     "data": {
      "text/plain": [
       "array([[ 1.        ,  0.        ,  0.        ,  0.        ],\n",
       "       [ 0.28571429,  1.        ,  0.        ,  0.        ],\n",
       "       [ 0.71428571,  0.12      ,  1.        ,  0.        ],\n",
       "       [ 0.71428571, -0.44      , -0.46153846,  1.        ]])"
      ]
     },
     "execution_count": 12,
     "metadata": {},
     "output_type": "execute_result"
    }
   ],
   "source": [
    "l"
   ]
  },
  {
   "cell_type": "code",
   "execution_count": 13,
   "metadata": {},
   "outputs": [
    {
     "data": {
      "text/plain": [
       "array([[ 7.        ,  5.        ,  6.        ,  6.        ],\n",
       "       [ 0.        ,  3.57142857,  6.28571429,  5.28571429],\n",
       "       [ 0.        ,  0.        , -1.04      ,  3.08      ],\n",
       "       [ 0.        ,  0.        ,  0.        ,  7.46153846]])"
      ]
     },
     "execution_count": 13,
     "metadata": {},
     "output_type": "execute_result"
    }
   ],
   "source": [
    "u"
   ]
  },
  {
   "cell_type": "code",
   "execution_count": 14,
   "metadata": {},
   "outputs": [
    {
     "data": {
      "text/plain": [
       "array([[2, 5, 8, 7],\n",
       "       [5, 2, 2, 8],\n",
       "       [7, 5, 6, 6],\n",
       "       [5, 4, 4, 8]])"
      ]
     },
     "execution_count": 14,
     "metadata": {},
     "output_type": "execute_result"
    }
   ],
   "source": [
    "A"
   ]
  },
  {
   "cell_type": "code",
   "execution_count": 15,
   "metadata": {},
   "outputs": [
    {
     "name": "stdout",
     "output_type": "stream",
     "text": [
      "[[-0.51792895  0.73811953  0.39182749 -0.18275771]\n",
      " [-0.42521029 -0.62994985  0.37808857 -0.52859098]\n",
      " [-0.5448339   0.01311592 -0.82198516 -0.16530093]\n",
      " [-0.50408515 -0.24118606  0.16691511  0.81232186]]\n"
     ]
    }
   ],
   "source": [
    "O = sc.linalg.orth(A)\n",
    "print(O)"
   ]
  },
  {
   "cell_type": "code",
   "execution_count": 16,
   "metadata": {},
   "outputs": [
    {
     "data": {
      "text/plain": [
       "-3.3306690738754696e-16"
      ]
     },
     "execution_count": 16,
     "metadata": {},
     "output_type": "execute_result"
    }
   ],
   "source": [
    "np.dot(O[0], O[1])"
   ]
  },
  {
   "cell_type": "code",
   "execution_count": 17,
   "metadata": {},
   "outputs": [],
   "source": [
    "A = np.random.randint(10, size=(3,3))\n",
    "q, r = sc.linalg.qr(A)"
   ]
  },
  {
   "cell_type": "code",
   "execution_count": 18,
   "metadata": {},
   "outputs": [
    {
     "data": {
      "text/plain": [
       "array([[-0.49153915,  0.84123678,  0.22518867],\n",
       "       [-0.57346234, -0.11806832, -0.81067923],\n",
       "       [-0.65538554, -0.52761781,  0.54045282]])"
      ]
     },
     "execution_count": 18,
     "metadata": {},
     "output_type": "execute_result"
    }
   ],
   "source": [
    "q"
   ]
  },
  {
   "cell_type": "code",
   "execution_count": 19,
   "metadata": {},
   "outputs": [
    {
     "data": {
      "text/plain": [
       "array([[-12.20655562,  -9.33924389,  -6.79962494],\n",
       "       [  0.        ,  -5.45697017,   0.09224088],\n",
       "       [  0.        ,   0.        ,  -6.30528289]])"
      ]
     },
     "execution_count": 19,
     "metadata": {},
     "output_type": "execute_result"
    }
   ],
   "source": [
    "r"
   ]
  },
  {
   "cell_type": "code",
   "execution_count": 20,
   "metadata": {},
   "outputs": [
    {
     "data": {
      "text/plain": [
       "array([[ 1,  1,  1,  1,  1,  1,  1,  1],\n",
       "       [ 1, -1,  1, -1,  1, -1,  1, -1],\n",
       "       [ 1,  1, -1, -1,  1,  1, -1, -1],\n",
       "       [ 1, -1, -1,  1,  1, -1, -1,  1],\n",
       "       [ 1,  1,  1,  1, -1, -1, -1, -1],\n",
       "       [ 1, -1,  1, -1, -1,  1, -1,  1],\n",
       "       [ 1,  1, -1, -1, -1, -1,  1,  1],\n",
       "       [ 1, -1, -1,  1, -1,  1,  1, -1]])"
      ]
     },
     "execution_count": 20,
     "metadata": {},
     "output_type": "execute_result"
    }
   ],
   "source": [
    "sc.linalg.hadamard(8)"
   ]
  },
  {
   "cell_type": "code",
   "execution_count": null,
   "metadata": {},
   "outputs": [],
   "source": []
  },
  {
   "cell_type": "code",
   "execution_count": 21,
   "metadata": {},
   "outputs": [],
   "source": [
    "import seaborn as sns"
    "print(234)"
   ]
  },
  {
   "cell_type": "code",
   "execution_count": 22,
   "metadata": {},
   "outputs": [],
   "source": [
    "data_uniform = sc.stats.uniform.rvs(size=100000)"
   ]
  },
  {
   "cell_type": "code",
   "execution_count": 23,
   "metadata": {},
   "outputs": [
    {
     "data": {
      "text/plain": [
       "[Text(0, 0.5, 'Frequency'), Text(0.5, 0, 'Uniform Distribution ')]"
      ]
     },
     "execution_count": 23,
     "metadata": {},
     "output_type": "execute_result"
    },
    {
     "data": {
      "image/png": "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\n",
      "text/plain": [
       "<Figure size 432x288 with 1 Axes>"
      ]
     },
     "metadata": {
      "needs_background": "light"
     },
     "output_type": "display_data"
    }
   ],
   "source": [
    "ax = sns.distplot(data_uniform,\n",
    "bins=100,\n",
    "color='blue',\n",
    "hist_kws={\"linewidth\": 15,'alpha':1})\n",
    "ax.set(xlabel='Uniform Distribution ', ylabel='Frequency')"
   ]
  },
  {
   "cell_type": "code",
   "execution_count": 24,
   "metadata": {},
   "outputs": [],
   "source": [
    "data_normal = sc.stats.norm.rvs(size=100000)"
   ]
  },
  {
   "cell_type": "code",
   "execution_count": 25,
   "metadata": {},
   "outputs": [
    {
     "data": {
      "text/plain": [
       "[Text(0, 0.5, 'Frequency'), Text(0.5, 0, 'Normal Distribution')]"
      ]
     },
     "execution_count": 25,
     "metadata": {},
     "output_type": "execute_result"
    },
    {
     "data": {
      "image/png": "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\n",
      "text/plain": [
       "<Figure size 432x288 with 1 Axes>"
      ]
     },
     "metadata": {
      "needs_background": "light"
     },
     "output_type": "display_data"
    }
   ],
   "source": [
    "ax = sns.distplot(data_normal,\n",
    "bins=100,\n",
    "color='blue',\n",
    "hist_kws={\"linewidth\": 15,'alpha':1})\n",
    "ax.set(xlabel='Normal Distribution', ylabel='Frequency')"
   ]
  },
  {
   "cell_type": "code",
   "execution_count": 26,
   "metadata": {},
   "outputs": [
    {
     "name": "stdout",
     "output_type": "stream",
     "text": [
      "0.0\n",
      "1.0\n"
     ]
    }
   ],
   "source": [
    "mean, var, skew, kurt = sc.stats.norm.stats(moments='mvsk')\n",
    "print(mean)\n",
    "print(var)"
   ]
  },
  {
   "cell_type": "code",
   "execution_count": 27,
   "metadata": {},
   "outputs": [],
   "source": [
    "data_expon = sc.stats.expon.rvs(size=10000)"
   ]
  },
  {
   "cell_type": "code",
   "execution_count": 29,
   "metadata": {},
   "outputs": [
    {
     "data": {
      "text/plain": [
       "[Text(0, 0.5, 'Frequency'), Text(0.5, 0, 'Exponential Distribution')]"
      ]
     },
     "execution_count": 29,
     "metadata": {},
     "output_type": "execute_result"
    },
    {
     "data": {
      "image/png": "iVBORw0KGgoAAAANSUhEUgAAAYIAAAEGCAYAAABo25JHAAAABHNCSVQICAgIfAhkiAAAAAlwSFlzAAALEgAACxIB0t1+/AAAADh0RVh0U29mdHdhcmUAbWF0cGxvdGxpYiB2ZXJzaW9uMy4yLjIsIGh0dHA6Ly9tYXRwbG90bGliLm9yZy+WH4yJAAAefklEQVR4nO3debgU9Z3v8feHIygoLhFMFMyAxqhkVGKOxi1u0RE0gcRJIsQl440xJi5ZJkazTeaOSSZObjavC0HHmM2VEIMGl5hrRI1GwA3BZQhuR1xQFBSJCHzvH1UtTXOWPud0dXV3fV7P0091V1VXffvA05+uX1X9fooIzMysuAbkXYCZmeXLQWBmVnAOAjOzgnMQmJkVnIPAzKzgNsq7gN4aNmxYjBo1Ku8yzMyayty5c1+MiOGdLWu6IBg1ahRz5szJuwwzs6Yi6cmulrlpyMys4BwEZmYF5yAwMys4B4GZWcE5CMzMCi6zIJB0qaQXJD3UxXJJOk/SQkkPStozq1rMzKxrWR4RXAaM62b5eGCn9HEycFGGtZiZWRcyC4KImAUs7WaVicAvI3E3sKWkbbOqx8zMOpfnOYIRwNNlrzvSeWZmVkd5BoE6mdfpKDmSTpY0R9KcJUuWZFxW+X7XPczMWlWeQdABbF/2eiSwuLMVI2JqRLRHRPvw4Z12lWFmZn2UZxDMAE5Irx7aB1gWEc/mWI+ZWSFl1umcpCuAg4FhkjqAbwMDASJiCjATOBJYCLwOnJhVLWZm1rXMgiAiJvewPIBTs9q/mZlVx3cWm5kVnIPAzKzgHARmZgXnIDAzKzgHgZlZwTkIzMwKzkFgZlZwDgIzs4JzEJiZFZyDwMys4BwEZmYF5yAwMys4B4GZWcE5CMzMCs5BYGZWcA4CM7OCcxCYmRWcg8DMrOAcBGZmBecgMDMruMwGr2810rrnEfnVYWZWaz4iMDMrOAeBmVnBOQjMzArOQWBmVnAOAjOzgnMQmJkVnIPAzKzgHARmZgXnIDAzKzgHgZlZwTkIzMwKzkFgZlZwmQaBpHGSHpW0UNLZnSzfQtJ1kh6QNF/SiVnWY2ZmG8osCCS1ARcA44ExwGRJYypWOxVYEBF7AAcDP5Q0KKuazMxsQ1keEewNLIyIRRGxCrgSmFixTgBDJQnYDFgKrM6wJjMzq5BlEIwAni573ZHOK3c+sCuwGJgHfCEi1lZuSNLJkuZImrNkyZKs6jUzK6Qsg0CdzKsc0uUI4H5gO2AscL6kzTd4U8TUiGiPiPbhw4fXvlIzswLLMgg6gO3LXo8k+eVf7kRgeiQWAo8Du2RYk5mZVcgyCGYDO0kanZ4AngTMqFjnKeCDAJLeDuwMLMqwJjMzq5DZmMURsVrSacBNQBtwaUTMl3RKunwKcA5wmaR5JE1JZ0XEi1nVZGZmG8p08PqImAnMrJg3pez5YuCfsqzBzMy65zuLzcwKzkFgZlZwDgIzs4JzEJiZFZyDwMys4BwEZmYF5yDog2XL8q7AzKx2HAR98IlPwGr3kWpmLcJB0Ac33wxnnAFR2YWemVkTchD0wZlnwkUXwY035l2JmVn/OQj64DvfgU02SY4MzMyaXaZ9DbWqjTdOpnfckW8dZma14COCfrjvPnjttbyrMDPrHwdBP6xZA3ffnXcVZmb94yDohwED4Pbb867CzKx/HAT9MHasg8DMmp+DoB8OOCBpGnrzzbwrMTPrO1811A/nnZdMBw3yzWVm1rx8RGBmVnAOAjOzgnMQ1IibhsysWTkIauSJJ/KuwMysbxwENXLXXXlXYGbWNw6CGvEdxmbWrBwENeIgMLNm5SCokfvug5Ur867CzKz3HAQ1sno13Htv3lWYmfWeg6CGfMLYzJpRVUEg6R+zLqTZjR7t8wRm1pyqPSKYIukeSZ+XtGWmFTWpffdNjgh8Y5mZNZuqgiAiDgCOBbYH5ki6XNLhmVbWZPbZBxYvhqefzrsSM7PeqfocQUT8D/BN4CzgIOA8SY9IOjqr4prJBz6QTGfNyrcOM7PeqvYcwe6Sfgw8DBwKfDgidk2f/7ib942T9KikhZLO7mKdgyXdL2m+pNv68Bkawm67wZZbwp//nHclZma9U+14BOcDFwNfj4i3rpaPiMWSvtnZGyS1ARcAhwMdwGxJMyJiQdk6WwIXAuMi4ilJ2/Txc+SurQ0OPBBua9ooM7OiqrZp6Ejg8lIISBogaQhARPyqi/fsDSyMiEURsQq4EphYsc4ngekR8VS6rRd6+wEayUEHwcKF8MwzeVdiZla9aoPgFmBw2esh6bzujADKT512pPPKvRvYStKfJc2VdEJnG5J0sqQ5kuYsWbKkypLr76CDkqmPCsysmVQbBJtExGulF+nzIT28R53Mq7y4ciPgfcBRwBHAtyS9e4M3RUyNiPaIaB8+fHiVJdff2LGw+eYOAjNrLtUGwQpJe5ZeSHof0FPPOh0kl5uWjAQWd7LOjRGxIiJeBGYBe1RZU8Npa0uuHvIJYzNrJtWeLP4icI2k0hf5tsAxPbxnNrCTpNHAM8AkknMC5X4PnC9pI2AQ8H66uQqpkani+OfZZ2HbbfOpxcysN6oKgoiYLWkXYGeSJp9HIuLNHt6zWtJpwE1AG3BpRMyXdEq6fEpEPCzpRuBBYC1wSUQ81I/P0zBmzYJjeopKM7MGoKiyTwRJ+wGjKAuPiPhlNmV1rb29PebMmVOXfVX+yq/W0KEwaRJMnVrbeszM+krS3Iho72xZVUcEkn4F7AjcD6xJZwdQ9yBoBoceCjffnPQ71NcwMTOrl2rPEbQDY6Law4eC+/3vk+mAAe6EzswaX7VXDT0EvCPLQszMLB/VHhEMAxZIugd4ozQzIiZkUpWZmdVNtUHw71kW0creeAM23jjvKszMulbteAS3AU8AA9PnswGP0FuFO+/MuwIzs+5V2w31Z4BpwM/SWSOAa7MqqpXcdFPeFZiZda/ak8WnAvsDy+GtQWqatsvoenIQmFmjqzYI3ki7kgYg7RLCF0ZW4YEHoKMj7yrMzLpWbRDcJunrwOB0rOJrgOuyKyt/a9fWblvXX1+7bZmZ1Vq1QXA2sASYB3wWmEkyfnHLevXV2mxnxx1hxozabMvMLAvVdjq3lmSoyouzLadxLF1am+18+MNw0UWwYgVsumlttmlmVkvVXjX0uKRFlY+si8tTrYJgwoTkXoI//rE22zMzq7Xe9DVUsgnwceBttS+ncdQqCA44ALbYImke+shHarNNM7NaqvaGspfKHs9ExE+AQzOuLVcvv1yb7QwcCOPHJyeM16zpeX0zs3qrthvqPcteDiA5QhiaSUUNYtmy2mynvBvqe+6BffetzXbNzGql2qahH5Y9X03S3cQnal5NA1m+vPbb3G+/ZOquqc2skVR71dAhWRfSaLIIAjOzRlRt09CXu1seET+qTTmNw0FgZkXRm6uG9gJKt0Z9GJgFPJ1FUY2gVucIzMwaXW8GptkzIl4FkPTvwDURcVJWheUtyyMCj2VsZo2k2i4m3gmsKnu9ChhV82oaSJZB8MAD2W3bzKy3qj0i+BVwj6TfkfQ6+lHgl5lV1QCyDIJrroGxY7PbvplZb1R7Q9l3gROBl4FXgBMj4ntZFpa3LIPg6qt9CamZNY5qm4YAhgDLI+KnQIek0RnV1BCyDIKFC2Hu3Oy2b2bWG9V2Ovdt4Czga+msgcCvsyqqEWQZBAMHwhVXZLd9M7PeqPaI4KPABGAFQEQspoW7mFizpnbjEXRm3Di46qraDn5jZtZX1QbBqogI0uEpJbV0z/qvvZbt9idPhmeegdtvz3Y/ZmbVqDYIrpb0M2BLSZ8BbqGFB6nJ+q7iCRNgyBA3D5lZY+gxCCQJuAqYBvwW2Bn4t4j4vxnXlpusg2DTTWHiRJg2Dd58M9t9mZn1pMcgSJuEro2IP0bEmRHxlYho6fG26tHP0OTJ8NJLHrnMzPJXbdPQ3ZL2yrSSBlKPIDjiCNhqKzjqqKS7CXc5YWZ5qTYIDiEJg79JelDSPEkPZllYnuoRBIMGwT//c/b7MTPrSbdBIOmd6dPxwA4kw1N+GPhQOu2WpHGSHpW0UNLZ3ay3l6Q1kj5WfenZqVfPo5Mn12c/Zmbd6amvoWtJeh19UtJvI6Lq37CS2oALgMOBDmC2pBkRsaCT9c4Fbupd6dnJ+ojAzUBm1kh6ahoq/8raoZfb3htYGBGLImIVcCUwsZP1Tie5GumFXm4/Mx6UxsyKpKcgiC6eV2ME6w9c05HOe4ukESR3LU/pbkOSTpY0R9KcJUuW9LKM3lu+HIa27H3TZmbr6ykI9pC0XNKrwO7p8+WSXpXU0+/mzhpAKsPkJ8BZEbGmuw1FxNSIaI+I9uHDh/ew2/5bvhw23zzz3ZiZNYRuzxFERFs/tt0BbF/2eiSwuGKdduDK5J41hgFHSlodEdf2Y7/9VgqCZ57JZ79mZvXUm26oe2s2sJOk0ZIGAZNYN+YxABExOiJGRcQokjuXP593CEB+X8h/+EP992lmllkQRMRq4DSSq4EeBq6OiPmSTpF0Slb7rYVly/IJgunT679PM7Nqh6rsk4iYCcysmNfpieGI+Jcsa+mN5cthxIie16u1mTNh5UoYPLj++zaz4sqyaahp5dU09PrrcPPN9d+vmRWbg6ATy5fDFlvUf79bbeXmITOrPwdBhbVrk9HJ8jgimDABZsxw19RmVl8OggorVkBEPkFw9NHwyitw663137eZFZeDoEKpe4k8guDww5NBa9w8ZGb15CCoUOp5NI8gGDIkOSL52c9gTbf3WpuZ1Y6DoEKeRwTl7ror3/2bWXE4CCo0ShC4ecjM6sVBUKEUBHlcPlpu+vTkpLWZWdYcBBUa5YjgySfh3nvzrcHMisFBUKFRgqCtzc1DZlYfDoIKpSDIe2Cagw5yEJhZfTgIKixbllzL39afkRhq4Oij4ZFH4OGH863DzFqfg6BCowwOc9ppyXTMmHzrMLPW5yCo0ChBYGZWLw6CCnn1PNqdxx/PuwIza2UOggqvvNJ4RwS/+13eFZhZK3MQVFi6FLbeOu8q1nf11XlXYGatzEFQYelSeNvb8q5ifX/9Kzz2WN5VmFmrchCUiYCXX268IBgwAH71q7yrMLNW5SAo8+qrSffPjRYEhx2WBMHatXlXYmatyEFQZunSZLrVVvnWUemEE5K+h+64I+9KzKwVOQjKlIKg0Y4IjjsumR50UL51mFlrchCUadQgKLdiRd4VmFmrcRCUaYYg+PnP867AzFqNg6BMMwTBD38Iq1fnXYWZtRIHQZlGPVlc7oknYNq0vKsws1biICizdCkMHgybbJJ3JV3bZRc491wPY2lmteMgKNOIdxVXOvNMuP9+uPnmvCsxs1bhICjTiHcVV/r0p5PpGWfAypX51mJmrcFBUKYZjghKHnsMvvWtvKsws1bgICjTTEFwyinwox/BnXfmXYmZNbtMg0DSOEmPSloo6exOlh8r6cH08RdJe2RZT0+aKQj+67/gne+EY4/1wDVm1j+ZBYGkNuACYDwwBpgsqXIE3seBgyJid+AcYGpW9VSjmYJg6NDkMtLly2H//WH+/LwrMrNmleURwd7AwohYFBGrgCuBieUrRMRfIuLl9OXdwMgM6+nWypXw97839j0EldrbYdas5PmBB8KMGfnWY2bNKcsgGAE8Xfa6I53XlU8DN3S2QNLJkuZImrNkyZIalrhOM9xVXE5KHrvtlpwnGDkSJk6ESZPghRfWX0fKt1Yza2xZBkFnXz+d3gYl6RCSIDirs+URMTUi2iOiffjw4TUscZ1mC4Jyo0fD7Nlwzjlw1VXw9rf7y9/MqrdRhtvuALYvez0SWFy5kqTdgUuA8RHxUob1dOvltIGqGYPAX/pm1h9ZHhHMBnaSNFrSIGASsF4rtqR3AtOB4yMi11F5m/mIwMysPzI7IoiI1ZJOA24C2oBLI2K+pFPS5VOAfwO2Bi5U8rN2dUS0Z1VTdxwEZlZUWTYNEREzgZkV86aUPT8JOCnLGqrV6kFwyy3J2MdmZpV8Z3Fq6VJoa4PNNsu7kmwcfzy8+GLeVZhZI3IQpEo3k7XqideXXoLPftbdV5vZhhwEqWa6q7gvvvtdmD4dfvGLvCsxs0bjIEi1ehB89avJ9PTTYdGifGsxs8biIEg1w1gEtTBgAJxwAqxZk3clZtYoHASpVj8iKLnwwqRLinPPzbsSM2sUDoJUUYLguOOS6Te+AXPn5luLmTUGBwHw5ptJd87N1PNoLRx7LLz+et5VmFneHATAK68k0yIcEZR79NF1J5HNrLgcBECpZ+utt863jnr70pfgggvghk47/zazonAQsG6ox9Gj862j3n7842R65JGwYEG+tZhZfhwErLuufocd8q0jT+PHw7PP5l2FmeXBQUASBEOGwDbb5F1Jfl56CY46at24DGZWHA4CkqahHXZo3X6GqnHNNTB/Phx8MDz/fN7VmFk9OQhIjgiK3CwEyXmCVavgwQfhwAPhiSfyrsjM6qXwQRDhIKj0/PPw3vfCtGl5V2Jm9VD4IFiyBFascBCUW7Ysubfi4x9P7kR+5JG8KzKzLBU+CEpXDBXt0tFq/fa3sOuuMGEC/PrX6+65MLPWkelQlc3Al45276mnkpvOpkyB665LTqiXD27jgW7Mmp+DIA2CUaNyLaNhVV5SW/nFX36llUPBrDm5aWgRbLttch+B9c+8eXlXYGZ9UfggKN1DYP03dix87nOweHHelZhZbxQ+CHzpaO2ceipccgnsuCN8+cvw5JN5V2Rm1Sh0EKxaBU8/7SColfPOg8ceg2OOSTq0GzUqOYdw3XXJmA9m1pgKfbL4ySeTE5wOgtroqouOCROS6emnJ+Mlv+99xe7Ow6zRFPqIwJeO1tfUqbDXXjBmTBIEpYeZ5ctBgIOgXp57LgmDYcPWn3/FFfD3v+dTk5kVvGnogQeSy0bf8Y68KymGrsaE/uQnk2XHHgsnnQR77FHfusyKrrBHBG+8AVdfDRMnwoDC/hUawy23wBFHJEcLY8fCe94DX/sa3HFH8u9kZtkq7BHB9dcng7B86lN5V2KHHbb+6wULksf3v5+83m+/5Chh113hXe+CESNgu+2SMaZ9jsGs/wobBJddlnyZVH4JWeOR4PLLk15Ryw0alNwVvt12cNdd6+bPmZOckB48uL51mjWrQjaKPP883HADHH88tLXlXY315M47NwwBSO4DefLJ9UMAoL0dNtts/SuTZsxIBttxf0hmGyrkEcFvfgNr1rhZqFVdc00y0to556ybN3FiMt18c9htN9h9d9h556RTveHDkyuZStONN86nbrO8ZBoEksYBPwXagEsi4vsVy5UuPxJ4HfiXiLg3y5oWLYILL4T3vz9pc7bW8/GPd71s+fLk4oDOmpo6c+SRSTgMGwZDhyZ3SJceq1Yl04svXrf++ecn5zBGjkwe22zjixGs8WUWBJLagAuAw4EOYLakGRGxoGy18cBO6eP9wEXptObWrEm6QPjmN5PmoAsvzGIv1gxuv736dZ97Dh56CF58EV5/vef1Tztt/dcbbZRcnjxwYNIsVWqaioC1a9dNn302mb/DDsklzYMHr3tUvi41Z5Zvq6StLTmiqXwMGtT5/NJj4MB14VZ6rFmTbG/AgGRa/ryzef1ZXvoclZ+pfNpZF+ilx4AB67+ufFj3sjwi2BtYGBGLACRdCUwEyoNgIvDLiAjgbklbSto2Ip6tdTGXXpp0hHbUUckgKyNH1noP1oru7efx6erV0NFR/fqlmxy7s8UW6553dlQzaFDyRW7r6yoweqM/55gq39vZtnra/le/Ct/7Xt9r6EqWQTACeLrsdQcb/trvbJ0RwHpBIOlk4OT05WuSHu1rUX/4A2y/fdWrDwNe7Ou+GlwrfzZo4c+3bFn3n63JQyCzf7eI5CgnR/3+bP/5n8mjj/6hqwVZBkFnWVuZd9WsQ0RMBabWoqjekDQnItrrvd96aOXPBq39+fzZmlMjf7YsT2N1AOW/vUcClUOWVLOOmZllKMsgmA3sJGm0pEHAJGBGxTozgBOU2AdYlsX5ATMz61pmTUMRsVrSacBNJJePXhoR8yWdki6fAswkuXR0IcnloydmVU8f1b05qo5a+bNBa38+f7bm1LCfTeFbLc3MCs23upiZFZyDwMys4BwEnZA0TtKjkhZKOjvvempJ0vaSbpX0sKT5kr6Qd021JqlN0n2Srs+7llpKb7icJumR9N9v37xrqiVJX0r/Tz4k6QpJm+RdU19JulTSC5IeKpv3Nkl/lPQ/6bSLoZrqz0FQoaxrjPHAGGCypDH5VlVTq4F/jYhdgX2AU1vs8wF8AXg47yIy8FPgxojYBdiDFvqMkkYAZwDtEfGPJBeYTMq3qn65DBhXMe9s4E8RsRPwp/R1Q3AQbOitrjEiYhVQ6hqjJUTEs6WO/SLiVZIvkxH5VlU7kkYCRwGX5F1LLUnaHDgQ+G+AiFgVEa/kW1XNbQQMlrQRMIQmvqcoImYBSytmTwR+kT7/BfCRuhbVDQfBhrrq9qLlSBoFvBf4a76V1NRPgK8Ca/MupMZ2AJYAP0+bvS6RtGneRdVKRDwD/B/gKZIuZpZFxM35VlVzby/dJ5VOt8m5nrc4CDZUVbcXzU7SZsBvgS9GxPK866kFSR8CXoiIuXnXkoGNgD2BiyLivcAKGqhpob/S9vKJwGhgO2BTScflW1VxOAg21PLdXkgaSBICv4mI6XnXU0P7AxMkPUHSpHeopF/nW1LNdAAdEVE6eptGEgyt4jDg8YhYEhFvAtOB/XKuqdael7QtQDp9Ied63uIg2FA1XWM0rXQwoP8GHo6IH+VdTy1FxNciYmREjCL5d/t/EdESvyoj4jngaUk7p7M+yPpduje7p4B9JA1J/49+kBY6GZ6aAZTGRfwU8Psca1lPIYeq7E5XXWPkXFYt7Q8cD8yTdH867+sRMTPHmqw6pwO/SX+gLKLxumTps4j4q6RpwL0kV7bdRwN3ydATSVcABwPDJHUA3wa+D1wt6dMkwdfNWHr15S4mzMwKzk1DZmYF5yAwMys4B4GZWcE5CMzMCs5BYGZWcA4Cy5SkNZLuL3s07N2wkr4oaUjZ65mStuzhPU9IGtbF/HnpY4Gk70jaOF22XXqpZFfb3FLS53vY71/S6cG97WVV0kfKOxqU9B+SDuvNNqy1+PJRy5Sk1yJis7zrqEZ6R3J7RLzY3/eUz0+785gKvBkRn9pwKxtscxRwfdoLZ+WytohYU/b6YOArEfGhXtR8Wbr9LsPIisVHBFZ3krZIx3vYOX19haTPpM9fk/RDSfdK+pOk4en8sZLulvSgpN+V+nKX9GdJ50q6R9Jjkj6Qzm+T9ANJs9P3fDadf3D6nlK//r9R4gySPm5ulXRruu5bv/YlXStpbtpf/sm9+bwR8RpwCvCRtE/6UaV+6iW9J639/rTOnUhuPNoxnfeDtOZbJV0OzCv9ncp2sXn6N1kgaYqkAZXrSPqYpMsk7QdMAH6Qbn/HdP7H0vU+qKRTu3lK+tQvHcU8Iel/p/8u8yTt0pu/gTU2B4FlbXBF09AxEbEMOA24TNIkYKuIuDhdf1Pg3ojYE7iN5I5MgF8CZ0XE7iRfht8u28dGEbE38MWy+Z8m6cFyL2Av4DOSRqfL3puuO4akV8/9I+I8kj6lDomIQzr5HP8rIt4HtANnSNq6N3+EtGO/x4GdKhadAvw0Isam2+4g6UzubxExNiLOTNfbG/hGRHQ2dsTewL8CuwE7Akd3U8dfSLo6ODPd/t9Ky5QMBHMZcExE7EbS88Dnyt7+YvrvchHwlao+uDUFB4FlbWX6hVN6XAUQEX8k+UK/ADipbP21wFXp818DB0jaAtgyIm5L5/+CpG/+klLHeXOBUenzfwJOUNKNxl+BrVn3JXxPRHRExFrg/rL3dOcMSQ8Ad5N0Slj5hV6Nznq2vQv4uqSzgH+IiJVdvPeeiHi8m2WL0iajK4AD+lAbwM4kHb89lr6u5u9sLcBBYLlImy92BVYCb+tm1WpOYr2RTtewrv8sAaeXBdDosv7t3yh7b/l7uqr1YJLeMfeNiD1I+sHp1TCKkoaSfHk+Vj4/Ii4naapZCdwk6dAuNrGim81X/o2ik/nV1NtZUJXr7O9sLcBBYHn5EknvkpOBS5V0jQ3J/8mPpc8/CdyRNiW9XGr/J+k07za6dxPwudJ2Jb1bPQ/k8iowtJP5WwAvR8Tradv4Pj1sZz3pyeILgWsj4uWKZTsAi9KmqRnA7t3U0ZW9lfSWOwA4Brgjnf+8pF3T+R8tW7+r7T8CjJL0rvR1NX9nawFOdcvaYK3r5RTgRuBSkuagvSPiVUmzgG+StO+vAN4jaS6wjOSLDZJue6coubyzmp43LyH5BX6vJJGM7tXT0IBTgRskPVtxnuBG4BRJDwKPkjQPVePWdN8DgN8B53SyzjHAcZLeBJ4D/iMilkq6Mz2hfAPwhx72cxfJCebdgFnpviA513A9yYh7DwGlq7euBC5OT5CXQpeI+LukE4FrlAwXORuYUuVntSbmy0etoaiJLjc1axVuGjIzKzgfEZiZFZyPCMzMCs5BYGZWcA4CM7OCcxCYmRWcg8DMrOD+P6+94IdncNL7AAAAAElFTkSuQmCC\n",
      "text/plain": [
       "<Figure size 432x288 with 1 Axes>"
      ]
     },
     "metadata": {
      "needs_background": "light"
     },
     "output_type": "display_data"
    }
   ],
   "source": [
    "ax = sns.distplot(data_expon,\n",
    "bins=100,\n",
    "color='blue',\n",
    "hist_kws={\"linewidth\": 15,'alpha':1})\n",
    "ax.set(xlabel='Exponential Distribution', ylabel='Frequency')"
   ]
  },
  {
   "cell_type": "code",
   "execution_count": null,
   "metadata": {},
   "outputs": [],
   "source": []
  },
  {
   "cell_type": "code",
   "execution_count": 31,
   "metadata": {},
   "outputs": [],
   "source": [
    "def integrand(x, a, b):\n",
    " return a*x**2 + b"
   ]
  },
  {
   "cell_type": "code",
   "execution_count": 32,
   "metadata": {},
   "outputs": [],
   "source": [
    "from scipy.integrate import quad\n",
    "a = 2\n",
    "b = 1\n",
    "I = sc.integrate.quad(integrand, 0, 1, args=(a,b))"
   ]
  },
  {
   "cell_type": "code",
   "execution_count": 33,
   "metadata": {},
   "outputs": [
    {
     "data": {
      "text/plain": [
       "(1.6666666666666667, 1.8503717077085944e-14)"
      ]
     },
     "execution_count": 33,
     "metadata": {},
     "output_type": "execute_result"
    }
   ],
   "source": [
    "I"
   ]
  },
  {
   "cell_type": "code",
   "execution_count": 34,
   "metadata": {},
   "outputs": [],
   "source": [
    "x = np.array([1.0, 2.0, 3.0])\n",
    "h = np.array([0.0, 1.0, 0.0, 0.0, 0.0])"
   ]
  },
  {
   "cell_type": "code",
   "execution_count": 35,
   "metadata": {},
   "outputs": [],
   "source": [
    "from scipy import signal"
   ]
  },
  {
   "cell_type": "code",
   "execution_count": 36,
   "metadata": {},
   "outputs": [
    {
     "data": {
      "text/plain": [
       "array([0., 1., 2., 3., 0., 0., 0.])"
      ]
     },
     "execution_count": 36,
     "metadata": {},
     "output_type": "execute_result"
    }
   ],
   "source": [
    "sc.signal.convolve(x,h)"
   ]
  },
  {
   "cell_type": "code",
   "execution_count": 37,
   "metadata": {},
   "outputs": [],
   "source": [
    "x = np.array([1.0, 2.0, 1.0, -1.0, 1.5])"
   ]
  },
  {
   "cell_type": "code",
   "execution_count": 39,
   "metadata": {},
   "outputs": [],
   "source": [
    "y = sc.fft.fft(x)"
   ]
  },
  {
   "cell_type": "code",
   "execution_count": 40,
   "metadata": {},
   "outputs": [
    {
     "name": "stdout",
     "output_type": "stream",
     "text": [
      "[ 1.   2.   1.  -1.   1.5]\n",
      "[ 4.5       -0.j          2.08155948-1.65109876j -1.83155948+1.60822041j\n",
      " -1.83155948-1.60822041j  2.08155948+1.65109876j]\n"
     ]
    }
   ],
   "source": [
    "print(x)\n",
    "print(y)"
   ]
  },
  {
   "cell_type": "code",
   "execution_count": 41,
   "metadata": {},
   "outputs": [
    {
     "data": {
      "text/plain": [
       "array([ 1. +0.j,  2. +0.j,  1. +0.j, -1. +0.j,  1.5+0.j])"
      ]
     },
     "execution_count": 41,
     "metadata": {},
     "output_type": "execute_result"
    }
   ],
   "source": [
    "sc.fft.ifft(y)"
   ]
  },
  {
   "cell_type": "code",
   "execution_count": 42,
   "metadata": {},
   "outputs": [
    {
     "name": "stdout",
     "output_type": "stream",
     "text": [
      "[ 9.          2.575655    1.42705098 -6.29412435  1.92705098]\n"
     ]
    }
   ],
   "source": [
    "y = sc.fft.dct(x)\n",
    "print(y)"
   ]
  },
  {
   "cell_type": "code",
   "execution_count": 43,
   "metadata": {},
   "outputs": [
    {
     "data": {
      "text/plain": [
       "array([ 1. ,  2. ,  1. , -1. ,  1.5])"
      ]
     },
     "execution_count": 43,
     "metadata": {},
     "output_type": "execute_result"
    }
   ],
   "source": [
    "sc.fft.idct(y)"
   ]
  },
  {
   "cell_type": "code",
   "execution_count": 44,
   "metadata": {},
   "outputs": [],
   "source": [
    "def f(x):\n",
    " return x**2"
   ]
  },
  {
   "cell_type": "code",
   "execution_count": 45,
   "metadata": {},
   "outputs": [],
   "source": [
    "x = np.linspace(-1, 2)\n",
    "y = f(x)"
   ]
  },
  {
   "cell_type": "code",
   "execution_count": 46,
   "metadata": {},
   "outputs": [],
   "source": [
    "import matplotlib.pyplot as plt\n",
    "%matplotlib inline"
   ]
  },
  {
   "cell_type": "code",
   "execution_count": 47,
   "metadata": {},
   "outputs": [
    {
     "data": {
      "text/plain": [
       "[<matplotlib.lines.Line2D at 0x1a90cfa3160>]"
      ]
     },
     "execution_count": 47,
     "metadata": {},
     "output_type": "execute_result"
    },
    {
     "data": {
      "image/png": "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\n",
      "text/plain": [
       "<Figure size 432x288 with 1 Axes>"
      ]
     },
     "metadata": {
      "needs_background": "light"
     },
     "output_type": "display_data"
    }
   ],
   "source": [
    "plt.plot(x, y, linewidth=2)"
   ]
  },
  {
   "cell_type": "code",
   "execution_count": null,
   "metadata": {},
   "outputs": [],
   "source": []
  }
 ],
 "metadata": {
  "kernelspec": {
   "display_name": "Python 3",
   "language": "python",
   "name": "python3"
  },
  "language_info": {
   "codemirror_mode": {
    "name": "ipython",
    "version": 3
   },
   "file_extension": ".py",
   "mimetype": "text/x-python",
   "name": "python",
   "nbconvert_exporter": "python",
   "pygments_lexer": "ipython3",
   "version": "3.8.3"
  }
 },
 "nbformat": 4,
 "nbformat_minor": 4
}
