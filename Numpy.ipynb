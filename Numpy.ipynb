{
 "cells": [
  {
   "cell_type": "code",
   "execution_count": 8,
   "metadata": {},
   "outputs": [],
   "source": [
    "import numpy as np"
   ]
  },
  {
   "cell_type": "code",
   "execution_count": 9,
   "metadata": {},
   "outputs": [
    {
     "name": "stdout",
     "output_type": "stream",
     "text": [
      "1.18.5\n"
     ]
    }
   ],
   "source": [
    "print(np.__version__)"
   ]
  },
  {
   "cell_type": "code",
   "execution_count": 10,
   "metadata": {},
   "outputs": [
    {
     "name": "stdout",
     "output_type": "stream",
     "text": [
      "[1 2 3]\n"
     ]
    }
   ],
   "source": [
    "a = np.array([1,2,3])\n",
    "print(a)"
   ]
  },
  {
   "cell_type": "code",
   "execution_count": 11,
   "metadata": {},
   "outputs": [
    {
     "name": "stdout",
     "output_type": "stream",
     "text": [
      "[1 2 3]\n"
     ]
    }
   ],
   "source": [
    "a = np.array([1,2,3], dtype = 'int32')\n",
    "print(a)"
    "print(2*3)"
   ]
  },
  {
   "cell_type": "code",
   "execution_count": 17,
   "metadata": {},
   "outputs": [
    {
     "name": "stdout",
     "output_type": "stream",
     "text": [
      "[1. 2. 3. 4. 5. 6.]\n"
     ]
    }
   ],
   "source": [
    "a = np.array([1,2,3,4,5,6],dtype = 'float32')\n",
    "print(a)"
   ]
  },
  {
   "cell_type": "code",
   "execution_count": 20,
   "metadata": {},
   "outputs": [
    {
     "name": "stdout",
     "output_type": "stream",
     "text": [
      "[1.+0.j 2.+0.j 3.+0.j 4.+0.j 5.+0.j 6.+0.j]\n"
     ]
    }
   ],
   "source": [
    "a = np.array([1,2,3,4,5,6],dtype = 'complex64')\n",
    "print(a)"
   ]
  },
  {
   "cell_type": "code",
   "execution_count": 21,
   "metadata": {},
   "outputs": [
    {
     "data": {
      "text/plain": [
       "1"
      ]
     },
     "execution_count": 21,
     "metadata": {},
     "output_type": "execute_result"
    }
   ],
   "source": [
    "a.ndim"
   ]
  },
  {
   "cell_type": "code",
   "execution_count": 22,
   "metadata": {},
   "outputs": [
    {
     "data": {
      "text/plain": [
       "(6,)"
      ]
     },
     "execution_count": 22,
     "metadata": {},
     "output_type": "execute_result"
    }
   ],
   "source": [
    "np.shape(a)"
   ]
  },
  {
   "cell_type": "code",
   "execution_count": 25,
   "metadata": {},
   "outputs": [
    {
     "name": "stdout",
     "output_type": "stream",
     "text": [
      "[[1 2 3 4]\n",
      " [4 5 6 5]\n",
      " [7 8 9 1]]\n"
     ]
    }
   ],
   "source": [
    "b = np.array([[1,2,3,4],[4,5,6,5],[7,8,9,1]])\n",
    "print(b)"
   ]
  },
  {
   "cell_type": "code",
   "execution_count": 28,
   "metadata": {},
   "outputs": [
    {
     "data": {
      "text/plain": [
       "12"
      ]
     },
     "execution_count": 28,
     "metadata": {},
     "output_type": "execute_result"
    }
   ],
   "source": [
    "b.size"
   ]
  },
  {
   "cell_type": "code",
   "execution_count": 29,
   "metadata": {},
   "outputs": [
    {
     "data": {
      "text/plain": [
       "(3, 4)"
      ]
     },
     "execution_count": 29,
     "metadata": {},
     "output_type": "execute_result"
    }
   ],
   "source": [
    "b.shape"
   ]
  },
  {
   "cell_type": "code",
   "execution_count": 30,
   "metadata": {},
   "outputs": [
    {
     "data": {
      "text/plain": [
       "4"
      ]
     },
     "execution_count": 30,
     "metadata": {},
     "output_type": "execute_result"
    }
   ],
   "source": [
    "b.itemsize"
   ]
  },
  {
   "cell_type": "code",
   "execution_count": 32,
   "metadata": {},
   "outputs": [
    {
     "data": {
      "text/plain": [
       "dtype('int32')"
      ]
     },
     "execution_count": 32,
     "metadata": {},
     "output_type": "execute_result"
    }
   ],
   "source": [
    "b.dtype"
   ]
  },
  {
   "cell_type": "code",
   "execution_count": 33,
   "metadata": {},
   "outputs": [
    {
     "data": {
      "text/plain": [
       "48"
      ]
     },
     "execution_count": 33,
     "metadata": {},
     "output_type": "execute_result"
    }
   ],
   "source": [
    "b.nbytes"
   ]
  },
  {
   "cell_type": "code",
   "execution_count": 197,
   "metadata": {},
   "outputs": [
    {
     "name": "stdout",
     "output_type": "stream",
     "text": [
      "[[11 22 33 44 25 14 11]\n",
      " [38 29 10 19 12 13 25]]\n"
     ]
    }
   ],
   "source": [
    "import numpy as np\n",
    "x = np.array([[11,22,33,44,25,14,11],[38,29,10,19,12,13,25]])\n",
    "print(x)\n"
   ]
  },
  {
   "cell_type": "code",
   "execution_count": 198,
   "metadata": {},
   "outputs": [
    {
     "data": {
      "text/plain": [
       "14"
      ]
     },
     "execution_count": 198,
     "metadata": {},
     "output_type": "execute_result"
    }
   ],
   "source": [
    "x.size"
   ]
  },
  {
   "cell_type": "code",
   "execution_count": 199,
   "metadata": {},
   "outputs": [
    {
     "data": {
      "text/plain": [
       "(2, 7)"
      ]
     },
     "execution_count": 199,
     "metadata": {},
     "output_type": "execute_result"
    }
   ],
   "source": [
    "x.shape"
   ]
  },
  {
   "cell_type": "code",
   "execution_count": 200,
   "metadata": {},
   "outputs": [
    {
     "data": {
      "text/plain": [
       "dtype('int32')"
      ]
     },
     "execution_count": 200,
     "metadata": {},
     "output_type": "execute_result"
    }
   ],
   "source": [
    "x.dtype"
   ]
  },
  {
   "cell_type": "code",
   "execution_count": 201,
   "metadata": {},
   "outputs": [
    {
     "data": {
      "text/plain": [
       "12"
      ]
     },
     "execution_count": 201,
     "metadata": {},
     "output_type": "execute_result"
    }
   ],
   "source": [
    "x[1,4]"
   ]
  },
  {
   "cell_type": "code",
   "execution_count": 202,
   "metadata": {},
   "outputs": [
    {
     "data": {
      "text/plain": [
       "array([11, 38])"
      ]
     },
     "execution_count": 202,
     "metadata": {},
     "output_type": "execute_result"
    }
   ],
   "source": [
    "x[:,0]"
   ]
  },
  {
   "cell_type": "code",
   "execution_count": 203,
   "metadata": {},
   "outputs": [
    {
     "data": {
      "text/plain": [
       "array([38, 29, 10, 19, 12, 13, 25])"
      ]
     },
     "execution_count": 203,
     "metadata": {},
     "output_type": "execute_result"
    }
   ],
   "source": [
    "x[1,:]"
   ]
  },
  {
   "cell_type": "code",
   "execution_count": 204,
   "metadata": {},
   "outputs": [
    {
     "data": {
      "text/plain": [
       "array([33, 10])"
      ]
     },
     "execution_count": 204,
     "metadata": {},
     "output_type": "execute_result"
    }
   ],
   "source": [
    "x[:,2]"
   ]
  },
  {
   "cell_type": "code",
   "execution_count": 205,
   "metadata": {},
   "outputs": [
    {
     "data": {
      "text/plain": [
       "array([38, 29, 10, 19, 12, 13, 25])"
      ]
     },
     "execution_count": 205,
     "metadata": {},
     "output_type": "execute_result"
    }
   ],
   "source": [
    "x[1]"
   ]
  },
  {
   "cell_type": "code",
   "execution_count": 206,
   "metadata": {},
   "outputs": [
    {
     "data": {
      "text/plain": [
       "array([11, 22, 33, 44, 25, 14, 11])"
      ]
     },
     "execution_count": 206,
     "metadata": {},
     "output_type": "execute_result"
    }
   ],
   "source": [
    "x[0]"
   ]
  },
  {
   "cell_type": "code",
   "execution_count": 207,
   "metadata": {},
   "outputs": [
    {
     "data": {
      "text/plain": [
       "11"
      ]
     },
     "execution_count": 207,
     "metadata": {},
     "output_type": "execute_result"
    }
   ],
   "source": [
    "x[0,-1]"
   ]
  },
  {
   "cell_type": "code",
   "execution_count": 208,
   "metadata": {},
   "outputs": [
    {
     "data": {
      "text/plain": [
       "25"
      ]
     },
     "execution_count": 208,
     "metadata": {},
     "output_type": "execute_result"
    }
   ],
   "source": [
    "x[1,-1]"
   ]
  },
  {
   "cell_type": "code",
   "execution_count": 209,
   "metadata": {},
   "outputs": [
    {
     "data": {
      "text/plain": [
       "33"
      ]
     },
     "execution_count": 209,
     "metadata": {},
     "output_type": "execute_result"
    }
   ],
   "source": [
    "x[0,2]"
   ]
  },
  {
   "cell_type": "code",
   "execution_count": 210,
   "metadata": {},
   "outputs": [
    {
     "data": {
      "text/plain": [
       "array([22, 33, 44, 25, 14])"
      ]
     },
     "execution_count": 210,
     "metadata": {},
     "output_type": "execute_result"
    }
   ],
   "source": [
    "x[0, 1:-1]"
   ]
  },
  {
   "cell_type": "code",
   "execution_count": 211,
   "metadata": {},
   "outputs": [
    {
     "data": {
      "text/plain": [
       "array([22, 44, 14])"
      ]
     },
     "execution_count": 211,
     "metadata": {},
     "output_type": "execute_result"
    }
   ],
   "source": [
    "x[0, 1:-1:2]"
   ]
  },
  {
   "cell_type": "code",
   "execution_count": 212,
   "metadata": {},
   "outputs": [
    {
     "name": "stdout",
     "output_type": "stream",
     "text": [
      "[[11 22  1 44 25 14 11]\n",
      " [38 29  2 19 12 20 25]]\n"
     ]
    }
   ],
   "source": [
    "x[1,5] = 20\n",
    "x[:,2] = [1,2]\n",
    "print(x)"
   ]
  },
  {
   "cell_type": "code",
   "execution_count": 213,
   "metadata": {},
   "outputs": [
    {
     "data": {
      "text/plain": [
       "array([[12, 21, 30],\n",
       "       [40,  5, 63],\n",
       "       [25,  3,  5]])"
      ]
     },
     "execution_count": 213,
     "metadata": {},
     "output_type": "execute_result"
    }
   ],
   "source": [
    "arr = np.array([[12, 21, 30],[40, 5, 63],[25, 3, 5]])\n",
    "arr"
   ]
  },
  {
   "cell_type": "code",
   "execution_count": 214,
   "metadata": {},
   "outputs": [
    {
     "data": {
      "text/plain": [
       "(3, 3)"
      ]
     },
     "execution_count": 214,
     "metadata": {},
     "output_type": "execute_result"
    }
   ],
   "source": [
    "arr.shape"
   ]
  },
  {
   "cell_type": "code",
   "execution_count": 215,
   "metadata": {},
   "outputs": [
    {
     "name": "stdout",
     "output_type": "stream",
     "text": [
      "[[[10 12]\n",
      "  [13 14]]\n",
      "\n",
      " [[15 16]\n",
      "  [17 18]]]\n"
     ]
    }
   ],
   "source": [
    "x1 = np.array([[[10,12],[13,14]],[[15,16],[17,18]]])\n",
    "print(x1)"
   ]
  },
  {
   "cell_type": "code",
   "execution_count": 216,
   "metadata": {},
   "outputs": [
    {
     "data": {
      "text/plain": [
       "(2, 2, 2)"
      ]
     },
     "execution_count": 216,
     "metadata": {},
     "output_type": "execute_result"
    }
   ],
   "source": [
    "x1.shape"
   ]
  },
  {
   "cell_type": "code",
   "execution_count": 217,
   "metadata": {},
   "outputs": [
    {
     "data": {
      "text/plain": [
       "array([13, 14])"
      ]
     },
     "execution_count": 217,
     "metadata": {},
     "output_type": "execute_result"
    }
   ],
   "source": [
    "x1[0,1]"
   ]
  },
  {
   "cell_type": "code",
   "execution_count": 218,
   "metadata": {},
   "outputs": [
    {
     "data": {
      "text/plain": [
       "array([17, 18])"
      ]
     },
     "execution_count": 218,
     "metadata": {},
     "output_type": "execute_result"
    }
   ],
   "source": [
    "x1[1,1]"
   ]
  },
  {
   "cell_type": "code",
   "execution_count": 219,
   "metadata": {},
   "outputs": [
    {
     "data": {
      "text/plain": [
       "array([[13, 14],\n",
       "       [17, 18]])"
      ]
     },
     "execution_count": 219,
     "metadata": {},
     "output_type": "execute_result"
    }
   ],
   "source": [
    "x1[:,1,:]"
   ]
  },
  {
   "cell_type": "code",
   "execution_count": 221,
   "metadata": {},
   "outputs": [
    {
     "name": "stdout",
     "output_type": "stream",
     "text": [
      "[[[10 12]\n",
      "  [ 7  7]]\n",
      "\n",
      " [[15 16]\n",
      "  [ 9  9]]]\n"
     ]
    }
   ],
   "source": [
    "x1[:,1,:] = [[7,7],[9,9]]\n",
    "print(x1)"
   ]
  },
  {
   "cell_type": "code",
   "execution_count": 222,
   "metadata": {},
   "outputs": [
    {
     "name": "stdout",
     "output_type": "stream",
     "text": [
      "[[[10 12]\n",
      "  [ 0  0]]\n",
      "\n",
      " [[15 16]\n",
      "  [ 9  9]]]\n"
     ]
    }
   ],
   "source": [
    "x1[0,1,:] = [0,0]\n",
    "print(x1)"
   ]
  },
  {
   "cell_type": "code",
   "execution_count": 223,
   "metadata": {},
   "outputs": [
    {
     "data": {
      "text/plain": [
       "array([[0., 0., 0.],\n",
       "       [0., 0., 0.],\n",
       "       [0., 0., 0.]])"
      ]
     },
     "execution_count": 223,
     "metadata": {},
     "output_type": "execute_result"
    }
   ],
   "source": [
    "np.zeros((3,3))"
   ]
  },
  {
   "cell_type": "code",
   "execution_count": 224,
   "metadata": {},
   "outputs": [
    {
     "data": {
      "text/plain": [
       "array([0., 0.])"
      ]
     },
     "execution_count": 224,
     "metadata": {},
     "output_type": "execute_result"
    }
   ],
   "source": [
    "np.zeros(2)"
   ]
  },
  {
   "cell_type": "code",
   "execution_count": 225,
   "metadata": {},
   "outputs": [
    {
     "data": {
      "text/plain": [
       "array([[0.],\n",
       "       [0.]])"
      ]
     },
     "execution_count": 225,
     "metadata": {},
     "output_type": "execute_result"
    }
   ],
   "source": [
    "np.zeros((2,1))"
   ]
  },
  {
   "cell_type": "code",
   "execution_count": 226,
   "metadata": {},
   "outputs": [
    {
     "data": {
      "text/plain": [
       "array([[0., 0.]])"
      ]
     },
     "execution_count": 226,
     "metadata": {},
     "output_type": "execute_result"
    }
   ],
   "source": [
    "np.zeros((1,2))"
   ]
  },
  {
   "cell_type": "code",
   "execution_count": 227,
   "metadata": {},
   "outputs": [
    {
     "data": {
      "text/plain": [
       "array([[1., 1., 1., 1.],\n",
       "       [1., 1., 1., 1.],\n",
       "       [1., 1., 1., 1.]])"
      ]
     },
     "execution_count": 227,
     "metadata": {},
     "output_type": "execute_result"
    }
   ],
   "source": [
    "np.ones((3,4)) "
   ]
  },
  {
   "cell_type": "code",
   "execution_count": 228,
   "metadata": {},
   "outputs": [
    {
     "data": {
      "text/plain": [
       "array([[14, 14],\n",
       "       [14, 14]])"
      ]
     },
     "execution_count": 228,
     "metadata": {},
     "output_type": "execute_result"
    }
   ],
   "source": [
    "np.full((2,2), 14)"
   ]
  },
  {
   "cell_type": "code",
   "execution_count": 229,
   "metadata": {},
   "outputs": [
    {
     "data": {
      "text/plain": [
       "array([[11, 22,  1, 44, 25, 14, 11],\n",
       "       [38, 29,  2, 19, 12, 20, 25]])"
      ]
     },
     "execution_count": 229,
     "metadata": {},
     "output_type": "execute_result"
    }
   ],
   "source": [
    "x"
   ]
  },
  {
   "cell_type": "code",
   "execution_count": 231,
   "metadata": {},
   "outputs": [
    {
     "data": {
      "text/plain": [
       "array([[10, 10, 10, 10, 10, 10, 10],\n",
       "       [10, 10, 10, 10, 10, 10, 10]])"
      ]
     },
     "execution_count": 231,
     "metadata": {},
     "output_type": "execute_result"
    }
   ],
   "source": [
    "b = np.full_like(x, 10)\n",
    "b"
   ]
  },
  {
   "cell_type": "code",
   "execution_count": 232,
   "metadata": {},
   "outputs": [
    {
     "data": {
      "text/plain": [
       "array([[10, 10, 10, 10, 10, 10, 10],\n",
       "       [10, 10, 10, 10, 10, 10, 10]])"
      ]
     },
     "execution_count": 232,
     "metadata": {},
     "output_type": "execute_result"
    }
   ],
   "source": [
    "b"
   ]
  },
  {
   "cell_type": "code",
   "execution_count": 233,
   "metadata": {},
   "outputs": [
    {
     "data": {
      "text/plain": [
       "0.8931310805990632"
      ]
     },
     "execution_count": 233,
     "metadata": {},
     "output_type": "execute_result"
    }
   ],
   "source": [
    "np.random.rand()"
   ]
  },
  {
   "cell_type": "code",
   "execution_count": 234,
   "metadata": {},
   "outputs": [
    {
     "data": {
      "text/plain": [
       "0.1275867590052715"
      ]
     },
     "execution_count": 234,
     "metadata": {},
     "output_type": "execute_result"
    }
   ],
   "source": [
    "np.random.rand()"
   ]
  },
  {
   "cell_type": "code",
   "execution_count": 235,
   "metadata": {},
   "outputs": [
    {
     "data": {
      "text/plain": [
       "0.0817012638252742"
      ]
     },
     "execution_count": 235,
     "metadata": {},
     "output_type": "execute_result"
    }
   ],
   "source": [
    "np.random.rand()"
   ]
  },
  {
   "cell_type": "code",
   "execution_count": 236,
   "metadata": {},
   "outputs": [
    {
     "data": {
      "text/plain": [
       "0.4022095098200248"
      ]
     },
     "execution_count": 236,
     "metadata": {},
     "output_type": "execute_result"
    }
   ],
   "source": [
    "np.random.rand()\n"
   ]
  },
  {
   "cell_type": "code",
   "execution_count": 238,
   "metadata": {},
   "outputs": [
    {
     "data": {
      "text/plain": [
       "array([0.40993779, 0.86842076, 0.10586867, 0.89917842, 0.67893297,\n",
       "       0.02376041, 0.22861172])"
      ]
     },
     "execution_count": 238,
     "metadata": {},
     "output_type": "execute_result"
    }
   ],
   "source": [
    "np.random.rand(7)"
   ]
  },
  {
   "cell_type": "code",
   "execution_count": 239,
   "metadata": {},
   "outputs": [
    {
     "data": {
      "text/plain": [
       "array([[0.69380475, 0.4957821 , 0.3253316 ],\n",
       "       [0.59759435, 0.75929835, 0.38216922],\n",
       "       [0.45359266, 0.95687271, 0.5655244 ]])"
      ]
     },
     "execution_count": 239,
     "metadata": {},
     "output_type": "execute_result"
    }
   ],
   "source": [
    "np.random.rand(3,3)\n"
   ]
  },
  {
   "cell_type": "code",
   "execution_count": 240,
   "metadata": {},
   "outputs": [
    {
     "data": {
      "text/plain": [
       "array([[ 0.90871133, -0.97580161,  0.99472373],\n",
       "       [-1.30684828, -1.16399004,  1.08476146],\n",
       "       [-1.76155795,  0.84576507, -0.58229938]])"
      ]
     },
     "execution_count": 240,
     "metadata": {},
     "output_type": "execute_result"
    }
   ],
   "source": [
    " np.random.randn(3,3)"
   ]
  },
  {
   "cell_type": "code",
   "execution_count": 242,
   "metadata": {},
   "outputs": [
    {
     "data": {
      "text/plain": [
       "array([[5, 0, 6, 7],\n",
       "       [2, 2, 3, 8],\n",
       "       [0, 7, 7, 4]])"
      ]
     },
     "execution_count": 242,
     "metadata": {},
     "output_type": "execute_result"
    }
   ],
   "source": [
    "np.random.randint(11, size = (3, 4))\n"
   ]
  },
  {
   "cell_type": "code",
   "execution_count": 243,
   "metadata": {},
   "outputs": [
    {
     "data": {
      "text/plain": [
       "3"
      ]
     },
     "execution_count": 243,
     "metadata": {},
     "output_type": "execute_result"
    }
   ],
   "source": [
    "np.random.randint(3, 4)"
   ]
  },
  {
   "cell_type": "code",
   "execution_count": 244,
   "metadata": {},
   "outputs": [
    {
     "data": {
      "text/plain": [
       "array([[1., 0., 0., 0., 0.],\n",
       "       [0., 1., 0., 0., 0.],\n",
       "       [0., 0., 1., 0., 0.],\n",
       "       [0., 0., 0., 1., 0.],\n",
       "       [0., 0., 0., 0., 1.]])"
      ]
     },
     "execution_count": 244,
     "metadata": {},
     "output_type": "execute_result"
    }
   ],
   "source": [
    "np.identity(5) "
   ]
  },
  {
   "cell_type": "code",
   "execution_count": 246,
   "metadata": {},
   "outputs": [
    {
     "name": "stdout",
     "output_type": "stream",
     "text": [
      "[[10 80 60]\n",
      " [10 80 60]\n",
      " [10 80 60]\n",
      " [10 80 60]]\n"
     ]
    }
   ],
   "source": [
    "a = np.array([[10,80,60]])\n",
    "a_rep = np.repeat(a,4, axis=0)\n",
    "print(a_rep)\n"
   ]
  },
  {
   "cell_type": "code",
   "execution_count": 247,
   "metadata": {},
   "outputs": [
    {
     "name": "stdout",
     "output_type": "stream",
     "text": [
      "[[10 10 10 10 80 80 80 80 60 60 60 60]]\n"
     ]
    }
   ],
   "source": [
    "a_rep = np.repeat(a,4, axis=1)\n",
    "print(a_rep)\n"
   ]
  },
  {
   "cell_type": "code",
   "execution_count": 248,
   "metadata": {},
   "outputs": [
    {
     "name": "stdout",
     "output_type": "stream",
     "text": [
      "[[1. 1. 1. 1. 1.]\n",
      " [1. 1. 1. 1. 1.]\n",
      " [1. 1. 1. 1. 1.]\n",
      " [1. 1. 1. 1. 1.]\n",
      " [1. 1. 1. 1. 1.]]\n",
      "[[0. 0. 0.]\n",
      " [0. 9. 0.]\n",
      " [0. 0. 0.]]\n",
      "[[1. 1. 1. 1. 1.]\n",
      " [1. 0. 0. 0. 1.]\n",
      " [1. 0. 9. 0. 1.]\n",
      " [1. 0. 0. 0. 1.]\n",
      " [1. 1. 1. 1. 1.]]\n"
     ]
    }
   ],
   "source": [
    "a = np.ones((5,5))\n",
    "print(a)\n",
    "b = np.zeros((3,3))\n",
    "b[1,1] = 9\n",
    "print(b)\n",
    "a[1:-1,1:-1] = b\n",
    "print(a)"
   ]
  },
  {
   "cell_type": "code",
   "execution_count": 250,
   "metadata": {},
   "outputs": [
    {
     "name": "stdout",
     "output_type": "stream",
     "text": [
      "[10 80 60]\n",
      "[10 80 60]\n"
     ]
    }
   ],
   "source": [
    "a = np.array([10,80,60])\n",
    "b = a.copy()\n",
    "print(a)\n",
    "print(b)"
   ]
  },
  {
   "cell_type": "code",
   "execution_count": 251,
   "metadata": {},
   "outputs": [
    {
     "data": {
      "text/plain": [
       "array([10, 80, 60])"
      ]
     },
     "execution_count": 251,
     "metadata": {},
     "output_type": "execute_result"
    }
   ],
   "source": [
    "c = a[:]\n",
    "c"
   ]
  },
  {
   "cell_type": "code",
   "execution_count": 253,
   "metadata": {},
   "outputs": [
    {
     "name": "stdout",
     "output_type": "stream",
     "text": [
      "[[1 3 4 2]\n",
      " [0 0 4 4]\n",
      " [1 2 1 0]]\n",
      "[[1 3 4 2]\n",
      " [0 0 4 4]\n",
      " [1 2 1 0]]\n",
      "[[14 14 14 14]\n",
      " [ 0  0  4  4]\n",
      " [ 1  2  1  0]]\n"
     ]
    }
   ],
   "source": [
    "a = np.random.randint(5, size=(3, 4))\n",
    "b = a.copy()\n",
    "print(a)\n",
    "print(b)\n",
    "b[0] = 14\n",
    "print(b)\n"
   ]
  },
  {
   "cell_type": "code",
   "execution_count": 254,
   "metadata": {},
   "outputs": [
    {
     "name": "stdout",
     "output_type": "stream",
     "text": [
      "[[1 3 4 2]\n",
      " [0 0 4 4]\n",
      " [1 2 1 0]]\n"
     ]
    }
   ],
   "source": [
    "print(a)\n"
   ]
  },
  {
   "cell_type": "code",
   "execution_count": 255,
   "metadata": {},
   "outputs": [
    {
     "data": {
      "text/plain": [
       "array([[1, 3, 4, 2],\n",
       "       [0, 0, 4, 4],\n",
       "       [1, 2, 1, 0]])"
      ]
     },
     "execution_count": 255,
     "metadata": {},
     "output_type": "execute_result"
    }
   ],
   "source": [
    "a"
   ]
  },
  {
   "cell_type": "code",
   "execution_count": null,
   "metadata": {},
   "outputs": [],
   "source": []
  },
  {
   "cell_type": "code",
   "execution_count": 259,
   "metadata": {},
   "outputs": [
    {
     "name": "stdout",
     "output_type": "stream",
     "text": [
      "[50 20 30 45]\n"
     ]
    }
   ],
   "source": [
    "a = np.array([50,20,30,45])\n",
    "print(a)\n"
   ]
  },
  {
   "cell_type": "code",
   "execution_count": 260,
   "metadata": {},
   "outputs": [
    {
     "data": {
      "text/plain": [
       "array([52, 22, 32, 47])"
      ]
     },
     "execution_count": 260,
     "metadata": {},
     "output_type": "execute_result"
    }
   ],
   "source": [
    "a + 2"
   ]
  },
  {
   "cell_type": "code",
   "execution_count": 261,
   "metadata": {},
   "outputs": [
    {
     "data": {
      "text/plain": [
       "array([48, 18, 28, 43])"
      ]
     },
     "execution_count": 261,
     "metadata": {},
     "output_type": "execute_result"
    }
   ],
   "source": [
    "a - 2"
   ]
  },
  {
   "cell_type": "code",
   "execution_count": 262,
   "metadata": {},
   "outputs": [
    {
     "data": {
      "text/plain": [
       "array([100,  40,  60,  90])"
      ]
     },
     "execution_count": 262,
     "metadata": {},
     "output_type": "execute_result"
    }
   ],
   "source": [
    "2*a\n"
   ]
  },
  {
   "cell_type": "code",
   "execution_count": 263,
   "metadata": {},
   "outputs": [
    {
     "data": {
      "text/plain": [
       "array([25. , 10. , 15. , 22.5])"
      ]
     },
     "execution_count": 263,
     "metadata": {},
     "output_type": "execute_result"
    }
   ],
   "source": [
    "a/2\n"
   ]
  },
  {
   "cell_type": "code",
   "execution_count": 264,
   "metadata": {},
   "outputs": [
    {
     "name": "stdout",
     "output_type": "stream",
     "text": [
      "[50 20 30 45]\n",
      "[10  2 10  2]\n",
      "[60 22 40 47]\n"
     ]
    }
   ],
   "source": [
    "b = np.array([10,2,10,2])\n",
    "print(a)\n",
    "print(b)\n",
    "c = a + b\n",
    "print(c)\n"
   ]
  },
  {
   "cell_type": "code",
   "execution_count": 265,
   "metadata": {},
   "outputs": [
    {
     "data": {
      "text/plain": [
       "array([2500,  400,  900, 2025], dtype=int32)"
      ]
     },
     "execution_count": 265,
     "metadata": {},
     "output_type": "execute_result"
    }
   ],
   "source": [
    "a ** 2\n"
   ]
  },
  {
   "cell_type": "code",
   "execution_count": 266,
   "metadata": {},
   "outputs": [
    {
     "data": {
      "text/plain": [
       "array([0.96496603, 0.40808206, 0.15425145, 0.52532199])"
      ]
     },
     "execution_count": 266,
     "metadata": {},
     "output_type": "execute_result"
    }
   ],
   "source": [
    "np.cos(a)\n"
   ]
  },
  {
   "cell_type": "code",
   "execution_count": 267,
   "metadata": {},
   "outputs": [
    {
     "data": {
      "text/plain": [
       "array([-0.26237485,  0.91294525, -0.98803162,  0.85090352])"
      ]
     },
     "execution_count": 267,
     "metadata": {},
     "output_type": "execute_result"
    }
   ],
   "source": [
    "np.sin(a)\n"
   ]
  },
  {
   "cell_type": "code",
   "execution_count": 269,
   "metadata": {},
   "outputs": [
    {
     "name": "stdout",
     "output_type": "stream",
     "text": [
      "[[ 320 1125]\n",
      " [ 135  567]]\n"
     ]
    }
   ],
   "source": [
    "A = np.array([[10,25],[15,27]])\n",
    "B = np.array([[32,45],[9,21]])\n",
    "C = A*B\n",
    "print(C)"
   ]
  },
  {
   "cell_type": "code",
   "execution_count": 270,
   "metadata": {},
   "outputs": [
    {
     "name": "stdout",
     "output_type": "stream",
     "text": [
      "[[1. 1. 1.]\n",
      " [1. 1. 1.]]\n",
      "[[2 2]\n",
      " [2 2]\n",
      " [2 2]]\n"
     ]
    },
    {
     "data": {
      "text/plain": [
       "array([[6., 6.],\n",
       "       [6., 6.]])"
      ]
     },
     "execution_count": 270,
     "metadata": {},
     "output_type": "execute_result"
    }
   ],
   "source": [
    "a = np.ones((2,3))\n",
    "print(a)\n",
    "b = np.full((3,2), 2)\n",
    "print(b)\n",
    "np.matmul(a,b) "
   ]
  },
  {
   "cell_type": "code",
   "execution_count": null,
   "metadata": {},
   "outputs": [],
   "source": []
  },
  {
   "cell_type": "code",
   "execution_count": 271,
   "metadata": {},
   "outputs": [
    {
     "name": "stdout",
     "output_type": "stream",
     "text": [
      "[[8 7 9]\n",
      " [8 9 7]\n",
      " [3 0 9]]\n"
     ]
    },
    {
     "data": {
      "text/plain": [
       "47.999999999999986"
      ]
     },
     "execution_count": 271,
     "metadata": {},
     "output_type": "execute_result"
    }
   ],
   "source": [
    "c = np.random.randint(10, size=(3,3))\n",
    "print(c)\n",
    "np.linalg.det(c) "
   ]
  },
  {
   "cell_type": "code",
   "execution_count": 272,
   "metadata": {},
   "outputs": [
    {
     "name": "stdout",
     "output_type": "stream",
     "text": [
      "[0 1 2 3 4 5 6 7]\n"
     ]
    }
   ],
   "source": [
    " a = np.arange(8)\n",
    "print(a)"
   ]
  },
  {
   "cell_type": "code",
   "execution_count": 273,
   "metadata": {},
   "outputs": [
    {
     "data": {
      "text/plain": [
       "array([0., 1., 2.])"
      ]
     },
     "execution_count": 273,
     "metadata": {},
     "output_type": "execute_result"
    }
   ],
   "source": [
    "np.arange(3.0)"
   ]
  },
  {
   "cell_type": "code",
   "execution_count": 274,
   "metadata": {},
   "outputs": [
    {
     "data": {
      "text/plain": [
       "array([3, 4, 5, 6])"
      ]
     },
     "execution_count": 274,
     "metadata": {},
     "output_type": "execute_result"
    }
   ],
   "source": [
    "np.arange(3,7)\n"
   ]
  },
  {
   "cell_type": "code",
   "execution_count": 275,
   "metadata": {},
   "outputs": [
    {
     "data": {
      "text/plain": [
       "array([3, 5])"
      ]
     },
     "execution_count": 275,
     "metadata": {},
     "output_type": "execute_result"
    }
   ],
   "source": [
    "np.arange(3,7,2)"
   ]
  },
  {
   "cell_type": "code",
   "execution_count": 276,
   "metadata": {},
   "outputs": [
    {
     "name": "stdout",
     "output_type": "stream",
     "text": [
      "[[ 0  1  2]\n",
      " [ 3  4  5]\n",
      " [ 6  7  8]\n",
      " [ 9 10 11]]\n"
     ]
    }
   ],
   "source": [
    "b = np.arange(12).reshape(4,3)\n",
    "print(b)"
   ]
  },
  {
   "cell_type": "code",
   "execution_count": 277,
   "metadata": {},
   "outputs": [
    {
     "data": {
      "text/plain": [
       "array([1.00000000e+00, 2.71828183e+00, 7.38905610e+00, 2.00855369e+01,\n",
       "       5.45981500e+01, 1.48413159e+02, 4.03428793e+02, 1.09663316e+03])"
      ]
     },
     "execution_count": 277,
     "metadata": {},
     "output_type": "execute_result"
    }
   ],
   "source": [
    "np.exp(a)"
   ]
  },
  {
   "cell_type": "code",
   "execution_count": 278,
   "metadata": {},
   "outputs": [
    {
     "data": {
      "text/plain": [
       "array([0.        , 1.        , 1.41421356, 1.73205081, 2.        ,\n",
       "       2.23606798, 2.44948974, 2.64575131])"
      ]
     },
     "execution_count": 278,
     "metadata": {},
     "output_type": "execute_result"
    }
   ],
   "source": [
    "np.sqrt(a)"
   ]
  },
  {
   "cell_type": "code",
   "execution_count": 279,
   "metadata": {},
   "outputs": [
    {
     "name": "stdout",
     "output_type": "stream",
     "text": [
      "[1.         1.08163265 1.16326531 1.24489796 1.32653061 1.40816327\n",
      " 1.48979592 1.57142857 1.65306122 1.73469388 1.81632653 1.89795918\n",
      " 1.97959184 2.06122449 2.14285714 2.2244898  2.30612245 2.3877551\n",
      " 2.46938776 2.55102041 2.63265306 2.71428571 2.79591837 2.87755102\n",
      " 2.95918367 3.04081633 3.12244898 3.20408163 3.28571429 3.36734694\n",
      " 3.44897959 3.53061224 3.6122449  3.69387755 3.7755102  3.85714286\n",
      " 3.93877551 4.02040816 4.10204082 4.18367347 4.26530612 4.34693878\n",
      " 4.42857143 4.51020408 4.59183673 4.67346939 4.75510204 4.83673469\n",
      " 4.91836735 5.        ]\n"
     ]
    }
   ],
   "source": [
    "a = np.linspace(1,5)\n",
    "print(a)"
   ]
  },
  {
   "cell_type": "code",
   "execution_count": 280,
   "metadata": {},
   "outputs": [
    {
     "data": {
      "text/plain": [
       "(50,)"
      ]
     },
     "execution_count": 280,
     "metadata": {},
     "output_type": "execute_result"
    }
   ],
   "source": [
    "np.shape(a)"
   ]
  },
  {
   "cell_type": "code",
   "execution_count": 281,
   "metadata": {},
   "outputs": [
    {
     "name": "stdout",
     "output_type": "stream",
     "text": [
      "[ 1.          1.09090909  1.18181818  1.27272727  1.36363636  1.45454545\n",
      "  1.54545455  1.63636364  1.72727273  1.81818182  1.90909091  2.\n",
      "  2.09090909  2.18181818  2.27272727  2.36363636  2.45454545  2.54545455\n",
      "  2.63636364  2.72727273  2.81818182  2.90909091  3.          3.09090909\n",
      "  3.18181818  3.27272727  3.36363636  3.45454545  3.54545455  3.63636364\n",
      "  3.72727273  3.81818182  3.90909091  4.          4.09090909  4.18181818\n",
      "  4.27272727  4.36363636  4.45454545  4.54545455  4.63636364  4.72727273\n",
      "  4.81818182  4.90909091  5.          5.09090909  5.18181818  5.27272727\n",
      "  5.36363636  5.45454545  5.54545455  5.63636364  5.72727273  5.81818182\n",
      "  5.90909091  6.          6.09090909  6.18181818  6.27272727  6.36363636\n",
      "  6.45454545  6.54545455  6.63636364  6.72727273  6.81818182  6.90909091\n",
      "  7.          7.09090909  7.18181818  7.27272727  7.36363636  7.45454545\n",
      "  7.54545455  7.63636364  7.72727273  7.81818182  7.90909091  8.\n",
      "  8.09090909  8.18181818  8.27272727  8.36363636  8.45454545  8.54545455\n",
      "  8.63636364  8.72727273  8.81818182  8.90909091  9.          9.09090909\n",
      "  9.18181818  9.27272727  9.36363636  9.45454545  9.54545455  9.63636364\n",
      "  9.72727273  9.81818182  9.90909091 10.        ]\n"
     ]
    }
   ],
   "source": [
    "a = np.linspace(1,10,100)\n",
    "print(a)\n"
   ]
  },
  {
   "cell_type": "code",
   "execution_count": 282,
   "metadata": {},
   "outputs": [
    {
     "data": {
      "text/plain": [
       "(100,)"
      ]
     },
     "execution_count": 282,
     "metadata": {},
     "output_type": "execute_result"
    }
   ],
   "source": [
    "a.shape\n"
   ]
  },
  {
   "cell_type": "code",
   "execution_count": 283,
   "metadata": {},
   "outputs": [
    {
     "name": "stdout",
     "output_type": "stream",
     "text": [
      "[[0 3 4 3]\n",
      " [5 9 5 2]\n",
      " [1 5 9 7]]\n"
     ]
    }
   ],
   "source": [
    "A = np.random.randint(10, size=(3,4))\n",
    "print(A)"
   ]
  },
  {
   "cell_type": "code",
   "execution_count": 284,
   "metadata": {},
   "outputs": [
    {
     "data": {
      "text/plain": [
       "array([2, 1, 2], dtype=int64)"
      ]
     },
     "execution_count": 284,
     "metadata": {},
     "output_type": "execute_result"
    }
   ],
   "source": [
    "np.argmax(A, axis=1)"
   ]
  },
  {
   "cell_type": "code",
   "execution_count": 285,
   "metadata": {},
   "outputs": [
    {
     "data": {
      "text/plain": [
       "5"
      ]
     },
     "execution_count": 285,
     "metadata": {},
     "output_type": "execute_result"
    }
   ],
   "source": [
    "np.argmax(A)\n"
   ]
  },
  {
   "cell_type": "code",
   "execution_count": 286,
   "metadata": {},
   "outputs": [
    {
     "name": "stdout",
     "output_type": "stream",
     "text": [
      "[1 1 2 2]\n"
     ]
    }
   ],
   "source": [
    "ind = np.argmax(A, axis=0)\n",
    "print(ind)"
   ]
  },
  {
   "cell_type": "code",
   "execution_count": 287,
   "metadata": {},
   "outputs": [
    {
     "data": {
      "text/plain": [
       "array([[5, 9, 5, 2],\n",
       "       [5, 9, 5, 2],\n",
       "       [1, 5, 9, 7],\n",
       "       [1, 5, 9, 7]])"
      ]
     },
     "execution_count": 287,
     "metadata": {},
     "output_type": "execute_result"
    }
   ],
   "source": [
    "A[ind]"
   ]
  },
  {
   "cell_type": "code",
   "execution_count": 288,
   "metadata": {},
   "outputs": [
    {
     "data": {
      "text/plain": [
       "array([[0, 3, 4, 3],\n",
       "       [5, 9, 5, 2],\n",
       "       [1, 5, 9, 7]])"
      ]
     },
     "execution_count": 288,
     "metadata": {},
     "output_type": "execute_result"
    }
   ],
   "source": [
    "A"
   ]
  },
  {
   "cell_type": "code",
   "execution_count": 289,
   "metadata": {},
   "outputs": [
    {
     "name": "stdout",
     "output_type": "stream",
     "text": [
      "[[0 3 4]\n",
      " [3 5 9]\n",
      " [5 2 1]\n",
      " [5 9 7]]\n"
     ]
    }
   ],
   "source": [
    "B = np.reshape(A, (4,3))\n",
    "print(B)"
   ]
  },
  {
   "cell_type": "code",
   "execution_count": 290,
   "metadata": {},
   "outputs": [
    {
     "name": "stdout",
     "output_type": "stream",
     "text": [
      "[[0 3 5 5]\n",
      " [3 5 2 9]\n",
      " [4 9 1 7]]\n"
     ]
    }
   ],
   "source": [
    "C = B.T \n",
    "print(C)"
   ]
  },
  {
   "cell_type": "code",
   "execution_count": 291,
   "metadata": {},
   "outputs": [
    {
     "name": "stdout",
     "output_type": "stream",
     "text": [
      "[[0 3 5 5]\n",
      " [3 5 2 9]\n",
      " [4 9 1 7]]\n"
     ]
    }
   ],
   "source": [
    "D = np.transpose(B)\n",
    "print(D)\n"
   ]
  },
  {
   "cell_type": "code",
   "execution_count": 292,
   "metadata": {},
   "outputs": [
    {
     "name": "stdout",
     "output_type": "stream",
     "text": [
      "[[9 3 0]\n",
      " [2 1 4]\n",
      " [5 9 2]]\n",
      "12\n"
     ]
    }
   ],
   "source": [
    "A = np.random.randint(10, size=(3,3))\n",
    "print(A)\n",
    "print(np.trace(A))"
   ]
  },
  {
   "cell_type": "code",
   "execution_count": 293,
   "metadata": {},
   "outputs": [
    {
     "data": {
      "text/plain": [
       "array([[9, 3, 0],\n",
       "       [2, 1, 4],\n",
       "       [5, 9, 2]])"
      ]
     },
     "execution_count": 293,
     "metadata": {},
     "output_type": "execute_result"
    }
   ],
   "source": [
    "A"
   ]
  },
  {
   "cell_type": "code",
   "execution_count": 294,
   "metadata": {},
   "outputs": [
    {
     "data": {
      "text/plain": [
       "array([[2, 9, 5],\n",
       "       [4, 1, 2],\n",
       "       [0, 3, 9]])"
      ]
     },
     "execution_count": 294,
     "metadata": {},
     "output_type": "execute_result"
    }
   ],
   "source": [
    "np.flip(A)"
   ]
  },
  {
   "cell_type": "code",
   "execution_count": 295,
   "metadata": {},
   "outputs": [
    {
     "data": {
      "text/plain": [
       "array([[0, 3, 9],\n",
       "       [4, 1, 2],\n",
       "       [2, 9, 5]])"
      ]
     },
     "execution_count": 295,
     "metadata": {},
     "output_type": "execute_result"
    }
   ],
   "source": [
    "np.flip(A, axis=1)"
   ]
  },
  {
   "cell_type": "code",
   "execution_count": 296,
   "metadata": {},
   "outputs": [
    {
     "data": {
      "text/plain": [
       "array([9, 3, 0, 2, 1, 4, 5, 9, 2])"
      ]
     },
     "execution_count": 296,
     "metadata": {},
     "output_type": "execute_result"
    }
   ],
   "source": [
    "A.flatten()"
   ]
  },
  {
   "cell_type": "code",
   "execution_count": null,
   "metadata": {},
   "outputs": [],
   "source": []
  },
  {
   "cell_type": "code",
   "execution_count": 297,
   "metadata": {},
   "outputs": [],
   "source": [
    " y = np.array([1, 0, 1, 0])\n",
    "y_hat = np.array([1, 1, 0, 0])"
   ]
  },
  {
   "cell_type": "code",
   "execution_count": 298,
   "metadata": {},
   "outputs": [
    {
     "name": "stdout",
     "output_type": "stream",
     "text": [
      "0.5\n"
     ]
    }
   ],
   "source": [
    "n = len(y)\n",
    "mse = (1/n)*np.sum(np.square(y_hat-y))\n",
    "print(mse)"
   ]
  },
  {
   "cell_type": "markdown",
   "metadata": {},
   "source": [
    "# Matplotlib"
   ]
  },
  {
   "cell_type": "code",
   "execution_count": 307,
   "metadata": {},
   "outputs": [
    {
     "name": "stdout",
     "output_type": "stream",
     "text": [
      "[[13]\n",
      " [16]\n",
      " [12]\n",
      " [ 5]\n",
      " [22]\n",
      " [ 5]\n",
      " [13]\n",
      " [ 8]\n",
      " [14]\n",
      " [13]]\n"
     ]
    },
    {
     "data": {
      "text/plain": [
       "[<matplotlib.lines.Line2D at 0x1f0e00bdeb0>]"
      ]
     },
     "execution_count": 307,
     "metadata": {},
     "output_type": "execute_result"
    },
    {
     "data": {
      "image/png": "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\n",
      "text/plain": [
       "<Figure size 432x288 with 1 Axes>"
      ]
     },
     "metadata": {
      "needs_background": "light"
     },
     "output_type": "display_data"
    }
   ],
   "source": [
    "import matplotlib.pyplot as plt\n",
    "%matplotlib inline\n",
    "x = np.random.randint(30, size=(10,1))\n",
    "print(x)\n",
    "plt.plot(x)"
   ]
  },
  {
   "cell_type": "code",
   "execution_count": 308,
   "metadata": {},
   "outputs": [
    {
     "name": "stdout",
     "output_type": "stream",
     "text": [
      "[ 0.          0.52631579  1.05263158  1.57894737  2.10526316  2.63157895\n",
      "  3.15789474  3.68421053  4.21052632  4.73684211  5.26315789  5.78947368\n",
      "  6.31578947  6.84210526  7.36842105  7.89473684  8.42105263  8.94736842\n",
      "  9.47368421 10.        ]\n",
      "[ 0.          0.78947368  1.57894737  2.36842105  3.15789474  3.94736842\n",
      "  4.73684211  5.52631579  6.31578947  7.10526316  7.89473684  8.68421053\n",
      "  9.47368421 10.26315789 11.05263158 11.84210526 12.63157895 13.42105263\n",
      " 14.21052632 15.        ]\n"
     ]
    },
    {
     "data": {
      "text/plain": [
       "[<matplotlib.lines.Line2D at 0x1f0e018b2b0>]"
      ]
     },
     "execution_count": 308,
     "metadata": {},
     "output_type": "execute_result"
    },
    {
     "data": {
      "image/png": "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\n",
      "text/plain": [
       "<Figure size 432x288 with 1 Axes>"
      ]
     },
     "metadata": {
      "needs_background": "light"
     },
     "output_type": "display_data"
    }
   ],
   "source": [
    "x = np.linspace(0, 10, 20)\n",
    "print(x)\n",
    "y = np.linspace(0, 15, 20)\n",
    "print(y)\n",
    "plt.plot(x, y, 'red') \n",
    "plt.plot(x, y, 'o')"
   ]
  },
  {
   "cell_type": "code",
   "execution_count": 309,
   "metadata": {},
   "outputs": [],
   "source": [
    "from numpy.random import randint"
   ]
  },
  {
   "cell_type": "code",
   "execution_count": 311,
   "metadata": {},
   "outputs": [
    {
     "data": {
      "text/plain": [
       "<mpl_toolkits.mplot3d.art3d.Poly3DCollection at 0x1f0e0252460>"
      ]
     },
     "execution_count": 311,
     "metadata": {},
     "output_type": "execute_result"
    },
    {
     "data": {
      "image/png": "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\n",
      "text/plain": [
       "<Figure size 432x288 with 1 Axes>"
      ]
     },
     "metadata": {
      "needs_background": "light"
     },
     "output_type": "display_data"
    }
   ],
   "source": [
    "from mpl_toolkits.mplot3d import Axes3D\n",
    "fig = plt.figure()\n",
    "ax = Axes3D(fig)\n",
    "X = np.arange(-10, 15, 0.15)\n",
    "Y = np.arange(-10, 15, 0.15)\n",
    "X, Y = np.meshgrid(X, Y)\n",
    "R = np.sqrt(X**2 + Y**2)\n",
    "Z = np.sin(R)\n",
    "ax.plot_surface(X, Y, Z, cmap='viridis')"
   ]
  },
  {
   "cell_type": "code",
   "execution_count": 313,
   "metadata": {},
   "outputs": [
    {
     "name": "stdout",
     "output_type": "stream",
     "text": [
      "[[9 3 0]\n",
      " [5 8 3]\n",
      " [9 0 4]]\n",
      "[[7 7 2]\n",
      " [8 3 4]\n",
      " [0 3 9]]\n"
     ]
    }
   ],
   "source": [
    "A = np.random.randint(10, size=(3,3))\n",
    "B = np.random.randint(10, size=(3,3))\n",
    "print(A)\n",
    "print(B)"
   ]
  },
  {
   "cell_type": "code",
   "execution_count": 314,
   "metadata": {},
   "outputs": [
    {
     "data": {
      "text/plain": [
       "array([[63, 21,  0],\n",
       "       [40, 24, 12],\n",
       "       [ 0,  0, 36]])"
      ]
     },
     "execution_count": 314,
     "metadata": {},
     "output_type": "execute_result"
    }
   ],
   "source": [
    "A*B"
   ]
  },
  {
   "cell_type": "code",
   "execution_count": 315,
   "metadata": {},
   "outputs": [
    {
     "data": {
      "text/plain": [
       "array([[87, 72, 30],\n",
       "       [99, 68, 69],\n",
       "       [63, 75, 54]])"
      ]
     },
     "execution_count": 315,
     "metadata": {},
     "output_type": "execute_result"
    }
   ],
   "source": [
    "np.matmul(A,B)"
   ]
  },
  {
   "cell_type": "code",
   "execution_count": 316,
   "metadata": {},
   "outputs": [
    {
     "data": {
      "text/plain": [
       "11"
      ]
     },
     "execution_count": 316,
     "metadata": {},
     "output_type": "execute_result"
    }
   ],
   "source": [
    "x = [1,2]\n",
    "y = [3,4]\n",
    "np.dot(x,y)"
   ]
  },
  {
   "cell_type": "code",
   "execution_count": 317,
   "metadata": {},
   "outputs": [
    {
     "data": {
      "text/plain": [
       "11"
      ]
     },
     "execution_count": 317,
     "metadata": {},
     "output_type": "execute_result"
    }
   ],
   "source": [
    "np.vdot(x,y)"
   ]
  },
  {
   "cell_type": "code",
   "execution_count": 318,
   "metadata": {},
   "outputs": [
    {
     "data": {
      "text/plain": [
       "11"
      ]
     },
     "execution_count": 318,
     "metadata": {},
     "output_type": "execute_result"
    }
   ],
   "source": [
    "np.inner(x,y) "
   ]
  },
  {
   "cell_type": "code",
   "execution_count": 319,
   "metadata": {},
   "outputs": [
    {
     "data": {
      "text/plain": [
       "array([[3, 4],\n",
       "       [6, 8]])"
      ]
     },
     "execution_count": 319,
     "metadata": {},
     "output_type": "execute_result"
    }
   ],
   "source": [
    "np.outer(x,y) "
   ]
  },
  {
   "cell_type": "code",
   "execution_count": 320,
   "metadata": {},
   "outputs": [
    {
     "name": "stdout",
     "output_type": "stream",
     "text": [
      "[[ 1  1]\n",
      " [ 1 -1]]\n"
     ]
    }
   ],
   "source": [
    "a = np.array([[1, 1], [1, -1]])\n",
    "print(a)"
   ]
  },
  {
   "cell_type": "code",
   "execution_count": 321,
   "metadata": {},
   "outputs": [
    {
     "data": {
      "text/plain": [
       "array([[ 1,  1,  1,  1],\n",
       "       [ 1, -1,  1, -1],\n",
       "       [ 1,  1, -1, -1],\n",
       "       [ 1, -1, -1,  1]])"
      ]
     },
     "execution_count": 321,
     "metadata": {},
     "output_type": "execute_result"
    }
   ],
   "source": [
    "np.kron(a,a)"
   ]
  },
  {
   "cell_type": "code",
   "execution_count": 322,
   "metadata": {},
   "outputs": [
    {
     "name": "stdout",
     "output_type": "stream",
     "text": [
      "[[1 8 6]\n",
      " [7 9 0]\n",
      " [6 8 7]]\n"
     ]
    }
   ],
   "source": [
    "A = np.random.randint(10, size=(3,3))\n",
    "print(A)"
   ]
  },
  {
   "cell_type": "code",
   "execution_count": 323,
   "metadata": {},
   "outputs": [
    {
     "name": "stdout",
     "output_type": "stream",
     "text": [
      "[[-0.10783277  0.99364131 -0.03238893]\n",
      " [-0.75482941 -0.10303135 -0.64777859]\n",
      " [-0.64699664 -0.04540365  0.76113984]]\n",
      "[[ -9.2736185  -12.83210001  -5.17597311]\n",
      " [  0.           6.65861917   5.64402234]\n",
      " [  0.           0.           5.13364531]]\n"
     ]
    }
   ],
   "source": [
    "q,r = np.linalg.qr(A)\n",
    "print(q)\n",
    "print(r)"
   ]
  },
  {
   "cell_type": "code",
   "execution_count": 324,
   "metadata": {},
   "outputs": [],
   "source": [
    "u,s,vt = np.linalg.svd(A)"
   ]
  },
  {
   "cell_type": "code",
   "execution_count": 325,
   "metadata": {},
   "outputs": [
    {
     "name": "stdout",
     "output_type": "stream",
     "text": [
      "[[-0.50586413  0.56492279 -0.65189242]\n",
      " [-0.56239562 -0.78901059 -0.24733268]\n",
      " [-0.65407389  0.24150471  0.71684226]]\n",
      "[18.26588538  6.20831147  2.79540693]\n",
      "[[-0.45807124 -0.78512836 -0.41682633]\n",
      " [-0.56522987 -0.10464605  0.81826915]\n",
      " [ 0.68606555 -0.61042826  0.39584265]]\n"
     ]
    }
   ],
   "source": [
    "print(u)\n",
    "print(s)\n",
    "print(vt)"
   ]
  },
  {
   "cell_type": "code",
   "execution_count": 326,
   "metadata": {},
   "outputs": [],
   "source": [
    " eig_val, eig_vec = np.linalg.eig(A)"
   ]
  },
  {
   "cell_type": "code",
   "execution_count": 327,
   "metadata": {},
   "outputs": [
    {
     "data": {
      "text/plain": [
       "array([16.63602927, -4.18701297,  4.5509837 ])"
      ]
     },
     "execution_count": 327,
     "metadata": {},
     "output_type": "execute_result"
    }
   ],
   "source": [
    "eig_val"
   ]
  },
  {
   "cell_type": "code",
   "execution_count": 328,
   "metadata": {},
   "outputs": [
    {
     "data": {
      "text/plain": [
       "array([[-0.51604989, -0.87492667,  0.30556804],\n",
       "       [-0.47306645,  0.46443321, -0.48077511],\n",
       "       [-0.71407327,  0.13713173,  0.82187801]])"
      ]
     },
     "execution_count": 328,
     "metadata": {},
     "output_type": "execute_result"
    }
   ],
   "source": [
    "eig_vec"
   ]
  },
  {
   "cell_type": "code",
   "execution_count": 329,
   "metadata": {},
   "outputs": [
    {
     "data": {
      "text/plain": [
       "array([ 2, -1,  1, -1])"
      ]
     },
     "execution_count": 329,
     "metadata": {},
     "output_type": "execute_result"
    }
   ],
   "source": [
    "A = np.array([2,-1,1,-1])\n",
    "A"
   ]
  },
  {
   "cell_type": "code",
   "execution_count": 330,
   "metadata": {},
   "outputs": [
    {
     "data": {
      "text/plain": [
       "2.6457513110645907"
      ]
     },
     "execution_count": 330,
     "metadata": {},
     "output_type": "execute_result"
    }
   ],
   "source": [
    "np.linalg.norm(A)"
   ]
  },
  {
   "cell_type": "code",
   "execution_count": 331,
   "metadata": {},
   "outputs": [
    {
     "data": {
      "text/plain": [
       "2.6457513110645907"
      ]
     },
     "execution_count": 331,
     "metadata": {},
     "output_type": "execute_result"
    }
   ],
   "source": [
    "np.linalg.norm(A,2)"
   ]
  },
  {
   "cell_type": "code",
   "execution_count": 332,
   "metadata": {},
   "outputs": [
    {
     "data": {
      "text/plain": [
       "5.0"
      ]
     },
     "execution_count": 332,
     "metadata": {},
     "output_type": "execute_result"
    }
   ],
   "source": [
    "np.linalg.norm(A,1)\n"
   ]
  },
  {
   "cell_type": "code",
   "execution_count": 333,
   "metadata": {},
   "outputs": [
    {
     "data": {
      "text/plain": [
       "2.0"
      ]
     },
     "execution_count": 333,
     "metadata": {},
     "output_type": "execute_result"
    }
   ],
   "source": [
    "np.linalg.norm(A, np.inf)"
   ]
  },
  {
   "cell_type": "code",
   "execution_count": 334,
   "metadata": {},
   "outputs": [
    {
     "name": "stdout",
     "output_type": "stream",
     "text": [
      "[[5 5 6]\n",
      " [9 9 1]\n",
      " [1 6 5]]\n"
     ]
    }
   ],
   "source": [
    "A = np.random.randint(10, size=(3,3))\n",
    "print(A)\n"
   ]
  },
  {
   "cell_type": "code",
   "execution_count": 335,
   "metadata": {},
   "outputs": [
    {
     "data": {
      "text/plain": [
       "3"
      ]
     },
     "execution_count": 335,
     "metadata": {},
     "output_type": "execute_result"
    }
   ],
   "source": [
    "np.linalg.matrix_rank(A) "
   ]
  },
  {
   "cell_type": "code",
   "execution_count": 336,
   "metadata": {},
   "outputs": [
    {
     "data": {
      "text/plain": [
       "<function numpy.linalg.matrix_power(a, n)>"
      ]
     },
     "execution_count": 336,
     "metadata": {},
     "output_type": "execute_result"
    }
   ],
   "source": [
    "np.linalg.matrix_power "
   ]
  },
  {
   "cell_type": "code",
   "execution_count": 337,
   "metadata": {},
   "outputs": [
    {
     "name": "stdout",
     "output_type": "stream",
     "text": [
      "[[4 2 2]\n",
      " [5 8 2]]\n"
     ]
    }
   ],
   "source": [
    "A = np.random.randint(10, size=(2,3))\n",
    "print(A)\n"
   ]
  },
  {
   "cell_type": "code",
   "execution_count": 338,
   "metadata": {},
   "outputs": [
    {
     "data": {
      "text/plain": [
       "2"
      ]
     },
     "execution_count": 338,
     "metadata": {},
     "output_type": "execute_result"
    }
   ],
   "source": [
    "np.linalg.matrix_rank(A)\n"
   ]
  },
  {
   "cell_type": "code",
   "execution_count": null,
   "metadata": {},
   "outputs": [],
   "source": []
  },
  {
   "cell_type": "code",
   "execution_count": null,
   "metadata": {},
   "outputs": [],
   "source": []
  },
  {
   "cell_type": "code",
   "execution_count": null,
   "metadata": {},
   "outputs": [],
   "source": []
  },
  {
   "cell_type": "code",
   "execution_count": 343,
   "metadata": {},
   "outputs": [
    {
     "name": "stdout",
     "output_type": "stream",
     "text": [
      "[[30 40 10]\n",
      " [21 31 51]]\n",
      "[7 5]\n"
     ]
    }
   ],
   "source": [
    " A = np.array([[30,40,10],[21,31,51]])\n",
    "print(A)\n",
    "b = np.array([7,5])\n",
    "print(b)"
   ]
  },
  {
   "cell_type": "code",
   "execution_count": 344,
   "metadata": {},
   "outputs": [
    {
     "ename": "LinAlgError",
     "evalue": "Last 2 dimensions of the array must be square",
     "output_type": "error",
     "traceback": [
      "\u001b[1;31m---------------------------------------------------------------------------\u001b[0m",
      "\u001b[1;31mLinAlgError\u001b[0m                               Traceback (most recent call last)",
      "\u001b[1;32m<ipython-input-344-19c382a1d613>\u001b[0m in \u001b[0;36m<module>\u001b[1;34m\u001b[0m\n\u001b[1;32m----> 1\u001b[1;33m \u001b[0mx\u001b[0m \u001b[1;33m=\u001b[0m \u001b[0mnp\u001b[0m\u001b[1;33m.\u001b[0m\u001b[0mlinalg\u001b[0m\u001b[1;33m.\u001b[0m\u001b[0msolve\u001b[0m\u001b[1;33m(\u001b[0m\u001b[0mA\u001b[0m\u001b[1;33m,\u001b[0m \u001b[0mb\u001b[0m\u001b[1;33m)\u001b[0m\u001b[1;33m\u001b[0m\u001b[1;33m\u001b[0m\u001b[0m\n\u001b[0m\u001b[0;32m      2\u001b[0m \u001b[0mprint\u001b[0m\u001b[1;33m(\u001b[0m\u001b[0mx\u001b[0m\u001b[1;33m)\u001b[0m\u001b[1;33m\u001b[0m\u001b[1;33m\u001b[0m\u001b[0m\n",
      "\u001b[1;32m<__array_function__ internals>\u001b[0m in \u001b[0;36msolve\u001b[1;34m(*args, **kwargs)\u001b[0m\n",
      "\u001b[1;32m~\\anaconda3\\lib\\site-packages\\numpy\\linalg\\linalg.py\u001b[0m in \u001b[0;36msolve\u001b[1;34m(a, b)\u001b[0m\n\u001b[0;32m    384\u001b[0m     \u001b[0ma\u001b[0m\u001b[1;33m,\u001b[0m \u001b[0m_\u001b[0m \u001b[1;33m=\u001b[0m \u001b[0m_makearray\u001b[0m\u001b[1;33m(\u001b[0m\u001b[0ma\u001b[0m\u001b[1;33m)\u001b[0m\u001b[1;33m\u001b[0m\u001b[1;33m\u001b[0m\u001b[0m\n\u001b[0;32m    385\u001b[0m     \u001b[0m_assert_stacked_2d\u001b[0m\u001b[1;33m(\u001b[0m\u001b[0ma\u001b[0m\u001b[1;33m)\u001b[0m\u001b[1;33m\u001b[0m\u001b[1;33m\u001b[0m\u001b[0m\n\u001b[1;32m--> 386\u001b[1;33m     \u001b[0m_assert_stacked_square\u001b[0m\u001b[1;33m(\u001b[0m\u001b[0ma\u001b[0m\u001b[1;33m)\u001b[0m\u001b[1;33m\u001b[0m\u001b[1;33m\u001b[0m\u001b[0m\n\u001b[0m\u001b[0;32m    387\u001b[0m     \u001b[0mb\u001b[0m\u001b[1;33m,\u001b[0m \u001b[0mwrap\u001b[0m \u001b[1;33m=\u001b[0m \u001b[0m_makearray\u001b[0m\u001b[1;33m(\u001b[0m\u001b[0mb\u001b[0m\u001b[1;33m)\u001b[0m\u001b[1;33m\u001b[0m\u001b[1;33m\u001b[0m\u001b[0m\n\u001b[0;32m    388\u001b[0m     \u001b[0mt\u001b[0m\u001b[1;33m,\u001b[0m \u001b[0mresult_t\u001b[0m \u001b[1;33m=\u001b[0m \u001b[0m_commonType\u001b[0m\u001b[1;33m(\u001b[0m\u001b[0ma\u001b[0m\u001b[1;33m,\u001b[0m \u001b[0mb\u001b[0m\u001b[1;33m)\u001b[0m\u001b[1;33m\u001b[0m\u001b[1;33m\u001b[0m\u001b[0m\n",
      "\u001b[1;32m~\\anaconda3\\lib\\site-packages\\numpy\\linalg\\linalg.py\u001b[0m in \u001b[0;36m_assert_stacked_square\u001b[1;34m(*arrays)\u001b[0m\n\u001b[0;32m    211\u001b[0m         \u001b[0mm\u001b[0m\u001b[1;33m,\u001b[0m \u001b[0mn\u001b[0m \u001b[1;33m=\u001b[0m \u001b[0ma\u001b[0m\u001b[1;33m.\u001b[0m\u001b[0mshape\u001b[0m\u001b[1;33m[\u001b[0m\u001b[1;33m-\u001b[0m\u001b[1;36m2\u001b[0m\u001b[1;33m:\u001b[0m\u001b[1;33m]\u001b[0m\u001b[1;33m\u001b[0m\u001b[1;33m\u001b[0m\u001b[0m\n\u001b[0;32m    212\u001b[0m         \u001b[1;32mif\u001b[0m \u001b[0mm\u001b[0m \u001b[1;33m!=\u001b[0m \u001b[0mn\u001b[0m\u001b[1;33m:\u001b[0m\u001b[1;33m\u001b[0m\u001b[1;33m\u001b[0m\u001b[0m\n\u001b[1;32m--> 213\u001b[1;33m             \u001b[1;32mraise\u001b[0m \u001b[0mLinAlgError\u001b[0m\u001b[1;33m(\u001b[0m\u001b[1;34m'Last 2 dimensions of the array must be square'\u001b[0m\u001b[1;33m)\u001b[0m\u001b[1;33m\u001b[0m\u001b[1;33m\u001b[0m\u001b[0m\n\u001b[0m\u001b[0;32m    214\u001b[0m \u001b[1;33m\u001b[0m\u001b[0m\n\u001b[0;32m    215\u001b[0m \u001b[1;32mdef\u001b[0m \u001b[0m_assert_finite\u001b[0m\u001b[1;33m(\u001b[0m\u001b[1;33m*\u001b[0m\u001b[0marrays\u001b[0m\u001b[1;33m)\u001b[0m\u001b[1;33m:\u001b[0m\u001b[1;33m\u001b[0m\u001b[1;33m\u001b[0m\u001b[0m\n",
      "\u001b[1;31mLinAlgError\u001b[0m: Last 2 dimensions of the array must be square"
     ]
    }
   ],
   "source": [
    "x = np.linalg.solve(A, b)\n",
    "print(x)"
   ]
  },
  {
   "cell_type": "code",
   "execution_count": 345,
   "metadata": {},
   "outputs": [
    {
     "data": {
      "text/plain": [
       "array([[30, 40, 10],\n",
       "       [21, 31, 51]])"
      ]
     },
     "execution_count": 345,
     "metadata": {},
     "output_type": "execute_result"
    }
   ],
   "source": [
    "A"
   ]
  },
  {
   "cell_type": "code",
   "execution_count": 346,
   "metadata": {},
   "outputs": [
    {
     "ename": "LinAlgError",
     "evalue": "Last 2 dimensions of the array must be square",
     "output_type": "error",
     "traceback": [
      "\u001b[1;31m---------------------------------------------------------------------------\u001b[0m",
      "\u001b[1;31mLinAlgError\u001b[0m                               Traceback (most recent call last)",
      "\u001b[1;32m<ipython-input-346-ae645f97e1f8>\u001b[0m in \u001b[0;36m<module>\u001b[1;34m\u001b[0m\n\u001b[1;32m----> 1\u001b[1;33m \u001b[0mnp\u001b[0m\u001b[1;33m.\u001b[0m\u001b[0mlinalg\u001b[0m\u001b[1;33m.\u001b[0m\u001b[0minv\u001b[0m\u001b[1;33m(\u001b[0m\u001b[0mA\u001b[0m\u001b[1;33m)\u001b[0m\u001b[1;33m\u001b[0m\u001b[1;33m\u001b[0m\u001b[0m\n\u001b[0m",
      "\u001b[1;32m<__array_function__ internals>\u001b[0m in \u001b[0;36minv\u001b[1;34m(*args, **kwargs)\u001b[0m\n",
      "\u001b[1;32m~\\anaconda3\\lib\\site-packages\\numpy\\linalg\\linalg.py\u001b[0m in \u001b[0;36minv\u001b[1;34m(a)\u001b[0m\n\u001b[0;32m    540\u001b[0m     \u001b[0ma\u001b[0m\u001b[1;33m,\u001b[0m \u001b[0mwrap\u001b[0m \u001b[1;33m=\u001b[0m \u001b[0m_makearray\u001b[0m\u001b[1;33m(\u001b[0m\u001b[0ma\u001b[0m\u001b[1;33m)\u001b[0m\u001b[1;33m\u001b[0m\u001b[1;33m\u001b[0m\u001b[0m\n\u001b[0;32m    541\u001b[0m     \u001b[0m_assert_stacked_2d\u001b[0m\u001b[1;33m(\u001b[0m\u001b[0ma\u001b[0m\u001b[1;33m)\u001b[0m\u001b[1;33m\u001b[0m\u001b[1;33m\u001b[0m\u001b[0m\n\u001b[1;32m--> 542\u001b[1;33m     \u001b[0m_assert_stacked_square\u001b[0m\u001b[1;33m(\u001b[0m\u001b[0ma\u001b[0m\u001b[1;33m)\u001b[0m\u001b[1;33m\u001b[0m\u001b[1;33m\u001b[0m\u001b[0m\n\u001b[0m\u001b[0;32m    543\u001b[0m     \u001b[0mt\u001b[0m\u001b[1;33m,\u001b[0m \u001b[0mresult_t\u001b[0m \u001b[1;33m=\u001b[0m \u001b[0m_commonType\u001b[0m\u001b[1;33m(\u001b[0m\u001b[0ma\u001b[0m\u001b[1;33m)\u001b[0m\u001b[1;33m\u001b[0m\u001b[1;33m\u001b[0m\u001b[0m\n\u001b[0;32m    544\u001b[0m \u001b[1;33m\u001b[0m\u001b[0m\n",
      "\u001b[1;32m~\\anaconda3\\lib\\site-packages\\numpy\\linalg\\linalg.py\u001b[0m in \u001b[0;36m_assert_stacked_square\u001b[1;34m(*arrays)\u001b[0m\n\u001b[0;32m    211\u001b[0m         \u001b[0mm\u001b[0m\u001b[1;33m,\u001b[0m \u001b[0mn\u001b[0m \u001b[1;33m=\u001b[0m \u001b[0ma\u001b[0m\u001b[1;33m.\u001b[0m\u001b[0mshape\u001b[0m\u001b[1;33m[\u001b[0m\u001b[1;33m-\u001b[0m\u001b[1;36m2\u001b[0m\u001b[1;33m:\u001b[0m\u001b[1;33m]\u001b[0m\u001b[1;33m\u001b[0m\u001b[1;33m\u001b[0m\u001b[0m\n\u001b[0;32m    212\u001b[0m         \u001b[1;32mif\u001b[0m \u001b[0mm\u001b[0m \u001b[1;33m!=\u001b[0m \u001b[0mn\u001b[0m\u001b[1;33m:\u001b[0m\u001b[1;33m\u001b[0m\u001b[1;33m\u001b[0m\u001b[0m\n\u001b[1;32m--> 213\u001b[1;33m             \u001b[1;32mraise\u001b[0m \u001b[0mLinAlgError\u001b[0m\u001b[1;33m(\u001b[0m\u001b[1;34m'Last 2 dimensions of the array must be square'\u001b[0m\u001b[1;33m)\u001b[0m\u001b[1;33m\u001b[0m\u001b[1;33m\u001b[0m\u001b[0m\n\u001b[0m\u001b[0;32m    214\u001b[0m \u001b[1;33m\u001b[0m\u001b[0m\n\u001b[0;32m    215\u001b[0m \u001b[1;32mdef\u001b[0m \u001b[0m_assert_finite\u001b[0m\u001b[1;33m(\u001b[0m\u001b[1;33m*\u001b[0m\u001b[0marrays\u001b[0m\u001b[1;33m)\u001b[0m\u001b[1;33m:\u001b[0m\u001b[1;33m\u001b[0m\u001b[1;33m\u001b[0m\u001b[0m\n",
      "\u001b[1;31mLinAlgError\u001b[0m: Last 2 dimensions of the array must be square"
     ]
    }
   ],
   "source": [
    "np.linalg.inv(A)"
   ]
  },
  {
   "cell_type": "code",
   "execution_count": 347,
   "metadata": {},
   "outputs": [
    {
     "data": {
      "text/plain": [
       "array([[ 0.01478054, -0.00354176],\n",
       "       [ 0.01820213, -0.00307796],\n",
       "       [-0.01715015,  0.02293713]])"
      ]
     },
     "execution_count": 347,
     "metadata": {},
     "output_type": "execute_result"
    }
   ],
   "source": [
    " np.linalg.pinv(A)"
   ]
  },
  {
   "cell_type": "code",
   "execution_count": 348,
   "metadata": {},
   "outputs": [
    {
     "data": {
      "text/plain": [
       "array([[5, 0, 3, 1],\n",
       "       [6, 6, 5, 8],\n",
       "       [1, 0, 0, 4]])"
      ]
     },
     "execution_count": 348,
     "metadata": {},
     "output_type": "execute_result"
    }
   ],
   "source": [
    "A = np.random.randint(10, size=(3,4))\n",
    "A\n"
   ]
  },
  {
   "cell_type": "code",
   "execution_count": 349,
   "metadata": {},
   "outputs": [
    {
     "ename": "LinAlgError",
     "evalue": "Last 2 dimensions of the array must be square",
     "output_type": "error",
     "traceback": [
      "\u001b[1;31m---------------------------------------------------------------------------\u001b[0m",
      "\u001b[1;31mLinAlgError\u001b[0m                               Traceback (most recent call last)",
      "\u001b[1;32m<ipython-input-349-ae645f97e1f8>\u001b[0m in \u001b[0;36m<module>\u001b[1;34m\u001b[0m\n\u001b[1;32m----> 1\u001b[1;33m \u001b[0mnp\u001b[0m\u001b[1;33m.\u001b[0m\u001b[0mlinalg\u001b[0m\u001b[1;33m.\u001b[0m\u001b[0minv\u001b[0m\u001b[1;33m(\u001b[0m\u001b[0mA\u001b[0m\u001b[1;33m)\u001b[0m\u001b[1;33m\u001b[0m\u001b[1;33m\u001b[0m\u001b[0m\n\u001b[0m",
      "\u001b[1;32m<__array_function__ internals>\u001b[0m in \u001b[0;36minv\u001b[1;34m(*args, **kwargs)\u001b[0m\n",
      "\u001b[1;32m~\\anaconda3\\lib\\site-packages\\numpy\\linalg\\linalg.py\u001b[0m in \u001b[0;36minv\u001b[1;34m(a)\u001b[0m\n\u001b[0;32m    540\u001b[0m     \u001b[0ma\u001b[0m\u001b[1;33m,\u001b[0m \u001b[0mwrap\u001b[0m \u001b[1;33m=\u001b[0m \u001b[0m_makearray\u001b[0m\u001b[1;33m(\u001b[0m\u001b[0ma\u001b[0m\u001b[1;33m)\u001b[0m\u001b[1;33m\u001b[0m\u001b[1;33m\u001b[0m\u001b[0m\n\u001b[0;32m    541\u001b[0m     \u001b[0m_assert_stacked_2d\u001b[0m\u001b[1;33m(\u001b[0m\u001b[0ma\u001b[0m\u001b[1;33m)\u001b[0m\u001b[1;33m\u001b[0m\u001b[1;33m\u001b[0m\u001b[0m\n\u001b[1;32m--> 542\u001b[1;33m     \u001b[0m_assert_stacked_square\u001b[0m\u001b[1;33m(\u001b[0m\u001b[0ma\u001b[0m\u001b[1;33m)\u001b[0m\u001b[1;33m\u001b[0m\u001b[1;33m\u001b[0m\u001b[0m\n\u001b[0m\u001b[0;32m    543\u001b[0m     \u001b[0mt\u001b[0m\u001b[1;33m,\u001b[0m \u001b[0mresult_t\u001b[0m \u001b[1;33m=\u001b[0m \u001b[0m_commonType\u001b[0m\u001b[1;33m(\u001b[0m\u001b[0ma\u001b[0m\u001b[1;33m)\u001b[0m\u001b[1;33m\u001b[0m\u001b[1;33m\u001b[0m\u001b[0m\n\u001b[0;32m    544\u001b[0m \u001b[1;33m\u001b[0m\u001b[0m\n",
      "\u001b[1;32m~\\anaconda3\\lib\\site-packages\\numpy\\linalg\\linalg.py\u001b[0m in \u001b[0;36m_assert_stacked_square\u001b[1;34m(*arrays)\u001b[0m\n\u001b[0;32m    211\u001b[0m         \u001b[0mm\u001b[0m\u001b[1;33m,\u001b[0m \u001b[0mn\u001b[0m \u001b[1;33m=\u001b[0m \u001b[0ma\u001b[0m\u001b[1;33m.\u001b[0m\u001b[0mshape\u001b[0m\u001b[1;33m[\u001b[0m\u001b[1;33m-\u001b[0m\u001b[1;36m2\u001b[0m\u001b[1;33m:\u001b[0m\u001b[1;33m]\u001b[0m\u001b[1;33m\u001b[0m\u001b[1;33m\u001b[0m\u001b[0m\n\u001b[0;32m    212\u001b[0m         \u001b[1;32mif\u001b[0m \u001b[0mm\u001b[0m \u001b[1;33m!=\u001b[0m \u001b[0mn\u001b[0m\u001b[1;33m:\u001b[0m\u001b[1;33m\u001b[0m\u001b[1;33m\u001b[0m\u001b[0m\n\u001b[1;32m--> 213\u001b[1;33m             \u001b[1;32mraise\u001b[0m \u001b[0mLinAlgError\u001b[0m\u001b[1;33m(\u001b[0m\u001b[1;34m'Last 2 dimensions of the array must be square'\u001b[0m\u001b[1;33m)\u001b[0m\u001b[1;33m\u001b[0m\u001b[1;33m\u001b[0m\u001b[0m\n\u001b[0m\u001b[0;32m    214\u001b[0m \u001b[1;33m\u001b[0m\u001b[0m\n\u001b[0;32m    215\u001b[0m \u001b[1;32mdef\u001b[0m \u001b[0m_assert_finite\u001b[0m\u001b[1;33m(\u001b[0m\u001b[1;33m*\u001b[0m\u001b[0marrays\u001b[0m\u001b[1;33m)\u001b[0m\u001b[1;33m:\u001b[0m\u001b[1;33m\u001b[0m\u001b[1;33m\u001b[0m\u001b[0m\n",
      "\u001b[1;31mLinAlgError\u001b[0m: Last 2 dimensions of the array must be square"
     ]
    }
   ],
   "source": [
    "np.linalg.inv(A)"
   ]
  },
  {
   "cell_type": "code",
   "execution_count": 350,
   "metadata": {},
   "outputs": [
    {
     "data": {
      "text/plain": [
       "array([[ 0.17747308, -0.02722928,  0.02573263],\n",
       "       [-0.16192729,  0.148892  , -0.2470912 ],\n",
       "       [ 0.05233428,  0.04311302, -0.12407667],\n",
       "       [-0.04436827,  0.00680732,  0.24356684]])"
      ]
     },
     "execution_count": 350,
     "metadata": {},
     "output_type": "execute_result"
    }
   ],
   "source": [
    "np.linalg.pinv(A)"
   ]
  },
  {
   "cell_type": "code",
   "execution_count": 352,
   "metadata": {},
   "outputs": [
    {
     "data": {
      "text/plain": [
       "array([220., 560., 907., 374.,  21.])"
      ]
     },
     "execution_count": 352,
     "metadata": {},
     "output_type": "execute_result"
    }
   ],
   "source": [
    "np.convolve([10, 20, 30], [22, 12, 0.7])"
   ]
  },
  {
   "cell_type": "code",
   "execution_count": 353,
   "metadata": {},
   "outputs": [
    {
     "name": "stdout",
     "output_type": "stream",
     "text": [
      "[ 10.   12.   17.  -15.   12.5]\n"
     ]
    }
   ],
   "source": [
    "x = np.array([10.0, 12.0, 17.0, -15.0, 12.5])\n",
    "print(x)\n"
   ]
  },
  {
   "cell_type": "code",
   "execution_count": 354,
   "metadata": {},
   "outputs": [
    {
     "name": "stdout",
     "output_type": "stream",
     "text": [
      "[36.5        +0.j         15.95288237-18.33359982j\n",
      " -9.20288237+30.72770115j -9.20288237-30.72770115j\n",
      " 15.95288237+18.33359982j]\n"
     ]
    }
   ],
   "source": [
    "y = np.fft.fft(x)\n",
    "print(y)"
   ]
  },
  {
   "cell_type": "code",
   "execution_count": 355,
   "metadata": {},
   "outputs": [
    {
     "data": {
      "text/plain": [
       "array([ 10. +0.j,  12. +0.j,  17. +0.j, -15. +0.j,  12.5+0.j])"
      ]
     },
     "execution_count": 355,
     "metadata": {},
     "output_type": "execute_result"
    }
   ],
   "source": [
    "np.fft.ifft(y)"
   ]
  },
  {
   "cell_type": "code",
   "execution_count": null,
   "metadata": {},
   "outputs": [],
   "source": []
  }
 ],
 "metadata": {
  "kernelspec": {
   "display_name": "Python 3",
   "language": "python",
   "name": "python3"
  },
  "language_info": {
   "codemirror_mode": {
    "name": "ipython",
    "version": 3
   },
   "file_extension": ".py",
   "mimetype": "text/x-python",
   "name": "python",
   "nbconvert_exporter": "python",
   "pygments_lexer": "ipython3",
   "version": "3.8.3"
  }
 },
 "nbformat": 4,
 "nbformat_minor": 4
}
